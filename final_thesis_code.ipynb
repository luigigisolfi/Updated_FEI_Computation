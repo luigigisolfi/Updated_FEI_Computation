{
 "cells": [
  {
   "cell_type": "code",
   "execution_count": null,
   "id": "1f5a706b",
   "metadata": {},
   "outputs": [],
   "source": [
    "%matplotlib inline"
   ]
  },
  {
   "cell_type": "markdown",
   "id": "24037eee",
   "metadata": {
    "cell_marker": "################################"
   },
   "source": [
    "# FRAGMENTATION INDEX COMPUTATION \n",
    "\n",
    "**Author**: Luigi Gisolfi\n",
    "\n",
    "**Year**: 2023\n",
    "\n",
    "This code computes the (Upgraded) Fragmentation Environmental Index, as devised in [L. Gisolfi Master's Thesis](https://thesis.unipd.it/retrieve/b00fb71a-4118-444b-bb0e-3ab77846ce05/Gisolfi_Luigi.pdf.pdf). \n",
    "\n",
    "Please, create the folder nube_XXX_km with the all the files cloud_XXX.fla \n",
    "Also, create the empty folders: weights, figures, CSI_out (containing CSI0.out) INSIDE the folder named nube_XXX_km before running this code.\n",
    "Make sure you have access to the file dens_mean_no_weights_2023.dat\n",
    "Note: For the background, only MASTER population objects > 5 cm is considered (file: background_pop.dat.5cm) has to be used as input\n"
   ]
  },
  {
   "cell_type": "markdown",
   "id": "14abb134",
   "metadata": {
    "cell_marker": "##############################################################################################################################################"
   },
   "source": [
    "## Import Statements\n",
    "Let's start by importing some relevant python modules that will be useful for the computation."
   ]
  },
  {
   "cell_type": "code",
   "execution_count": 3,
   "id": "bc8f0b3d-0d4d-46c6-b671-9d736aa8eec5",
   "metadata": {
    "lines_to_next_cell": 1
   },
   "outputs": [],
   "source": [
    "import numpy as np\n",
    "from numpy import random\n",
    "import matplotlib.pyplot as plt\n",
    "import os\n",
    "import math\n",
    "import time"
   ]
  },
  {
   "cell_type": "markdown",
   "id": "c8bfc1f7-aeda-432e-8ebb-7d7cce7737f2",
   "metadata": {
    "lines_to_next_cell": 1
   },
   "source": [
    "# Auxiliary Functions - A library\n",
    "In what follows, we define some functions that we will need for\n",
    "* the computation of both radar and optical weights to be applied to the Criticality of Spacecraft Index (CSI)\n",
    "* the computation of the CSI\n",
    "\n",
    "## Radar Range equation\n",
    "The observable given by a Resident Space Object is often given in terms of **range**, but the CSI definition rather relies on its **altitude**. The functions _h_to_rho_ and *rho_to_h* allow the user to go back and forth between the two quantities. \n",
    "\n",
    "An object of the Earth's surface (with radius $r_{e} = 6378$ km) has an altitude of $0$ km."
   ]
  },
  {
   "cell_type": "code",
   "execution_count": null,
   "id": "51c48a33-6d8b-425b-9f3a-392a98a3b054",
   "metadata": {
    "lines_to_next_cell": 1
   },
   "outputs": [],
   "source": [
    "r_e = 6378 #in km\n",
    "\n",
    "def rho_to_h(rho): #rho = target range, r_e = Earth radius, elevation = telescope elevation angle\n",
    "    r = np.sqrt(r_e**2 + rho**2 - 2*r_e*rho*np.cos(np.pi/2 + elevation))\n",
    "    h = r - r_e\n",
    "    return(h)\n",
    "\n",
    "def h_to_rho(h):\n",
    "    rho = r_e*(np.sqrt(((h+r_e)/r_e)**2 - np.cos(elevation)**2) - np.sin(elevation))\n",
    "    return(rho)"
   ]
  },
  {
   "cell_type": "markdown",
   "id": "a102fc39-6cf3-4be2-bc08-85a11bb67431",
   "metadata": {},
   "source": [
    "## Magnitude and Optical signature\n",
    "\n",
    "The magnitude of an RSO, together with its optical signature are computed as underlined in [Shell et al, 2010.](https://amostech.com/TechnicalPapers/2010/Systems/Shell.pdf)"
   ]
  },
  {
   "cell_type": "code",
   "execution_count": null,
   "id": "6745be2a-2b0c-45e3-a9b2-5641369703e2",
   "metadata": {
    "lines_to_next_cell": 1
   },
   "outputs": [],
   "source": [
    "def m_obj(s,rho): \n",
    "    m_obj = -26.732 - 2.5*np.log10(((s/100)**2/(rho*1000)**2)*0.175*(0.25 + 2/(3*np.pi))) #s in cm, rho in km #diffuse and reflected specular component considered\n",
    "    return (m_obj)\n",
    "\n",
    "def E_RSO(s,rho):\n",
    "\n",
    "    E_RSO = (5.6*10**10)*10**(-0.4*m_obj(s,rho)) #in photons/s/m^2\n",
    "    return(E_RSO)"
   ]
  },
  {
   "cell_type": "markdown",
   "id": "0d59b788-505d-44cb-afdc-47c69572d5cf",
   "metadata": {},
   "source": [
    "## Threshold Values at a Given Altitude Fragmentation $h_{frag}$\n",
    "\n",
    "In our main work, the performance of an optical sensor is set by defining the **faintest magnitude** of an object that is able to trigger a detection. Since, for both optical and radar sensors, we are talking about **reflective objects**, we assume that **the bigger the size (diameter), the brighter the object**. Therefore, the _capability_ of a sensor can be set by defining the minimum size of an object that can be detected at a maximum altitude. This is computed by the two threshold and threshold_radar functions. \n",
    "\n",
    "For each given size i (in $cm$, starting from $0.01$ $cm$), the ratio between the ratio of the magnitude of the object of size i at the collision altitude verus the least bright detectable object (which defines the capability) is computed. Due to the nature of magnitudes ( lower magnitude = brighter object), as soon as this ratio gets smaller than one, i defines the size of the smallest object that can be detected at $h_{frag}$. \n",
    "\n",
    "A similar threshold, involving the ratio between cross sections, allows to determine the minimum detectable size for radar sensors in _threshold_radar_"
   ]
  },
  {
   "cell_type": "code",
   "execution_count": null,
   "id": "e2a56b49-b45c-4264-af69-b0c622fdec09",
   "metadata": {
    "lines_to_next_cell": 1
   },
   "outputs": [],
   "source": [
    "def threshold(h_frag,s_min,h_max):\n",
    "    rho_frag = h_to_rho(h_frag)\n",
    "    rho_max = h_to_rho(h_max)\n",
    "    \n",
    "    i = 0\n",
    "    ratio = 2\n",
    "    while ratio >= 1:\n",
    "        i = i+0.01\n",
    "        ratio = m_obj(i,rho_frag)/m_obj(s_min,rho_max)\n",
    "\n",
    "    return(round(i,1))\n",
    "\n",
    "def threshold_radar(h_frag,s_min,h_max):\n",
    "    i = 0.01\n",
    "    ratio = 0.00001\n",
    "    rho_frag = h_to_rho(h_frag)\n",
    "    \n",
    "    sigma_min = (np.pi/4)*s_min**2\n",
    "    rho_max = h_to_rho(h_max)\n",
    "    \n",
    "    while ratio <= 1:\n",
    "        i = i+0.01\n",
    "        sigma_fragment = (np.pi/4)*i**2\n",
    "    \n",
    "        ratio = (sigma_fragment/rho_frag**4)/(sigma_min/rho_max**4)\n",
    "\n",
    "    return(round(i,2))  "
   ]
  },
  {
   "cell_type": "markdown",
   "id": "ce97455c",
   "metadata": {
    "cell_marker": "###########################"
   },
   "source": [
    "## Optical Weight Computation\n",
    "The optical weight is computed taking two factors into account:\n",
    "1) what SNR the RSO produces ($\\omega_{t_{sig}}$)\n",
    "2) how fast the RSO is in the FOV (linked to the RSO altitude, $\\omega_{E_{RSO}}$)\n",
    "\n",
    "\n",
    "The function _get_omega_optical_sum_ allows to perform a weighted sum of the two optical weights "
   ]
  },
  {
   "cell_type": "code",
   "execution_count": null,
   "id": "8d4861aa",
   "metadata": {
    "lines_to_next_cell": 1
   },
   "outputs": [],
   "source": [
    "def w_E_RSO(s_fragment, a_fragment):\n",
    "    h_fragment = a_fragment - r_e\n",
    "    rho_fragment = h_to_rho(h_fragment)\n",
    "    rho_max = h_to_rho(h_max)\n",
    "    if m_obj(s_fragment,rho_fragment) <= m_obj(s_min,rho_max): #check visibility\n",
    "        \n",
    "        if (s_fragment <= s_min):\n",
    "            omega_E_RSO = 1 - (E_RSO(s_fragment,rho_fragment)/E_RSO(s_min,rho_fragment)) \n",
    "        else: \n",
    "            omega_E_RSO = 0\n",
    "    else:\n",
    "        omega_E_RSO = 1\n",
    "    \n",
    "    return (omega_E_RSO)\n",
    "\n",
    "def w_t_sig(h_coll): #does not depend on fragment, only depends on h_coll of collision\n",
    "    \n",
    "    vel_HL = 500\n",
    "    vel_ML = 1000\n",
    "    vel_LL = 2000\n",
    "\n",
    "    if (0 <= h_coll <= 500):\n",
    "        w_t_sig = 1 - vel_HL/vel_LL\n",
    "    elif(500 < h_coll <= 1000):\n",
    "        w_t_sig = 1 - vel_HL/vel_ML\n",
    "    else:\n",
    "        w_t_sig = 0\n",
    "        \n",
    "    return(w_t_sig)\n",
    "\n",
    "def get_omega_optical_sum(omega_i_elem, omega_j_elem):\n",
    "    \n",
    "    if omega_i_elem == 1:\n",
    "        sum_optical_weights = omega_i_elem\n",
    "        return(sum_optical_weights)\n",
    "    \n",
    "    else: \n",
    "        if (0<= h_coll <= 500):\n",
    "            A = 0.1\n",
    "            sum_optical_weights = (omega_i_elem*A + omega_j_elem)\n",
    "        elif (500< h_coll <= 1000):\n",
    "            A = 0.5\n",
    "            sum_optical_weights = (omega_i_elem*A + omega_j_elem)\n",
    "        else:\n",
    "            sum_optical_weights = omega_i_elem\n",
    "            \n",
    "    \n",
    "        return(sum_optical_weights)"
   ]
  },
  {
   "cell_type": "markdown",
   "id": "230e1fd0-75e0-4d3d-b6d9-38b79c45756a",
   "metadata": {},
   "source": [
    "## Radar Weight\n",
    "\n",
    "The radar weight computation is more straightforward, as it ultimately only depends on the ratio between two radar cross sections."
   ]
  },
  {
   "cell_type": "code",
   "execution_count": null,
   "id": "c1681f2d",
   "metadata": {
    "lines_to_next_cell": 1
   },
   "outputs": [],
   "source": [
    "def w_radar(s_fragment,a_fragment):\n",
    "    h_fragment = a_fragment - r_e\n",
    "    sigma_fragment = (np.pi/4)*s_fragment**2\n",
    "    rho_fragment_radar = h_to_rho(h_fragment)\n",
    "    \n",
    "    sigma_min_radar = (np.pi/4)*s_min**2\n",
    "    rho_max_radar = h_to_rho(h_max)\n",
    "    \n",
    "    if (sigma_fragment/rho_fragment_radar**4) >= (sigma_min_radar/rho_max_radar**4):\n",
    "        \n",
    "        if s_fragment<= s_min:\n",
    "            w_radar = 1 - sigma_fragment/sigma_min_radar #the two rho_frag cancel out\n",
    "            \n",
    "        else:\n",
    "            w_radar = 0\n",
    "        \n",
    "    else:\n",
    "        w_radar = 1\n",
    "\n",
    "    return(w_radar)"
   ]
  },
  {
   "cell_type": "markdown",
   "id": "6c8b63ae",
   "metadata": {
    "cell_marker": "###########################"
   },
   "source": []
  },
  {
   "cell_type": "markdown",
   "id": "e16598de",
   "metadata": {
    "cell_marker": "##################################",
    "lines_to_next_cell": 0
   },
   "source": [
    "## Computing the fractional CSI\n",
    "\n",
    "The (modified) fractional CSI, as defined in [Bombardelli et al](https://www.sciencedirect.com/science/article/abs/pii/S0273117717302491) and here incorporating the optical or radar weight, is computed as follows.\n",
    "\n",
    "The two functions are slightly different. The first one is optimized to compute the _fractional_CSI_ for multiple objects at the same time. The second one, _fractional_CSI_new_ is used for single objects, and we will use it later to compute the contribution to the CSI of the parent object."
   ]
  },
  {
   "cell_type": "code",
   "execution_count": null,
   "id": "44387a17",
   "metadata": {
    "lines_to_next_cell": 1
   },
   "outputs": [],
   "source": [
    "def fractional_CSI(mass,a,e,inc,weight, r_in, r_out):\n",
    "    \n",
    "    h_in = r_in - r_e\n",
    "    h_fragment = a - r_e\n",
    "\n",
    "    phi = get_phi(a,e, r_in,r_out)\n",
    "    mass_norm = mass/10000\n",
    "    dens = h_to_dens(h_in)/(6.8*10**(-8))\n",
    "    f = (13-3*np.cos(inc*np.pi/180))/16\n",
    "    l = list(map(life, h_fragment))\n",
    "    f_CSI = phi*mass_norm*dens*l*f*weight\n",
    "\n",
    "    return(f_CSI)\n",
    "\n",
    "def fractional_CSI_new(mass,a,e,inc,weight,r_in, r_out):\n",
    "    \n",
    "    h_in = r_in - r_e\n",
    "    h_fragment = a - r_e\n",
    "\n",
    "    phi = get_phi_new(a,e,r_in,r_out)\n",
    "    \n",
    "    mass_norm = mass/10000\n",
    "    dens = h_to_dens(h_in)/(6.8*10**(-8))\n",
    "    f = (13-3*np.cos(inc*np.pi/180))/16\n",
    "    l = life(h_fragment)\n",
    "    f_CSI = phi*mass_norm*dens*l*f*weight\n",
    "    \n",
    "    return(f_CSI)"
   ]
  },
  {
   "cell_type": "markdown",
   "id": "460e90fe",
   "metadata": {
    "cell_marker": "########################"
   },
   "source": [
    "## CSI Elements Computation\n",
    "\n",
    "The CSI of an object depends on\n",
    "* object lifetime\n",
    "* object density of the crossed altitude shells\n",
    "* time spent in each altitude shell\n",
    "* object mass\n",
    "* object orbital inclination\n",
    "\n",
    "The following auxiliary functions: _life_, _get_phi_ and _h_to_dens_ allow to compute all the necessary terms to compute the CSI.\n",
    "Please note that, _get_phi_new_ is used later on for the parent object."
   ]
  },
  {
   "cell_type": "code",
   "execution_count": null,
   "id": "ce145793",
   "metadata": {
    "lines_to_next_cell": 1
   },
   "outputs": [],
   "source": [
    "def life(h_fragment):\n",
    "    \n",
    "    #coefficients from Bombardelli\n",
    "\n",
    "    h_ref = 1031.5 #in km\n",
    "    a_coeff= 6.5215\n",
    "    b_coeff=0.2583\n",
    "    c_coeff=-33.8481\n",
    "    \n",
    "    life_fragment = math.exp(a_coeff*(h_fragment**b_coeff) + c_coeff)\n",
    "    life_ref = math.exp(a_coeff*(h_ref**b_coeff) + c_coeff)\n",
    "    l = life_fragment/life_ref\n",
    "    \n",
    "    if l >= 1:\n",
    "        l = 1\n",
    "        return(l)\n",
    "    else:\n",
    "        return(l)\n",
    "\n",
    "def get_phi(a,e, r_in, r_out):\n",
    "    \n",
    "    peri = a*(1-e)\n",
    "    apo = a*(1+e)\n",
    "    E_out = np.arccos((a - r_out)/(a*e)) #E_out of selected objects only\n",
    "    E_in = np.arccos((a - r_in)/(a*e))#E_in of selected objects only\n",
    "    \n",
    "    condizione1_peri = peri > r_in\n",
    "    condizione1_apo = apo < r_out\n",
    "    condizione2_peri = peri < r_in\n",
    "    condizione2_apo = apo > r_out\n",
    "    condizione3_peri = peri < r_in\n",
    "    condizione31_apo =  apo < r_out\n",
    "    condizione32_apo = apo > r_in\n",
    "    condizione41_peri = peri < r_out\n",
    "    condizione42_peri = peri > r_in\n",
    "    condizione4_apo = apo > r_out\n",
    "    condizione0_peri = peri > r_out\n",
    "    condizione0_apo = apo < r_in\n",
    "    \n",
    "    pos0 = np.where(condizione0_peri|condizione0_apo)\n",
    "    pos1 = np.where(condizione1_peri & condizione1_apo)\n",
    "    pos2 = np.where(condizione2_peri & condizione2_apo)\n",
    "    pos3 = np.where(condizione3_peri & (condizione31_apo & condizione32_apo))\n",
    "    pos4 = np.where((condizione41_peri & condizione42_peri) & condizione4_apo)\n",
    "    \n",
    "    phi_array = np.zeros(len(peri))\n",
    "    if len(pos0[0]) != 0:\n",
    "        phi_array[pos0] = 0\n",
    "    if len(pos1[0]) != 0:\n",
    "        phi_array[pos1] = 1\n",
    "    if len(pos2[0]) != 0:\n",
    "        phi_array[pos2] = (E_out[pos2] - E_in[pos2] - e[pos2]*(np.sin(E_out[pos2]) - np.sin(E_in[pos2])))/np.pi\n",
    "    if len(pos3[0]) != 0:\n",
    "        phi_array[pos3] = 1 - (E_in[pos3] - e[pos3]*(np.sin(E_in[pos3])))/np.pi\n",
    "    if len(pos4[0]) != 0:\n",
    "        phi_array[pos4] = (E_out[pos4] - e[pos4]*(np.sin(E_out[pos4])))/np.pi\n",
    "    else: \n",
    "        phi_array = phi_array\n",
    "    return(phi_array)\n",
    "    \n",
    "def h_to_dens(h):\n",
    "\n",
    "    altitude, dens = np.loadtxt('/Users/luigigisolfi/dens_mean_2023.dat', unpack = True, usecols = (0,1))\n",
    "    altitude = np.round(altitude)\n",
    "    pos = np.where(altitude == h)[0]\n",
    "    pos_1 = pos +1\n",
    "    density = (dens[pos] + dens[pos_1])/2\n",
    "    #print(f'Density at {h} km: {density}')\n",
    "           \n",
    "    return(density)\n",
    "\n",
    "def get_phi_new(a,e, r_in, r_out):\n",
    "    \n",
    "    E_out_par = np.arccos((a - r_out)/(a*e))\n",
    "    E_in_par = np.arccos((a - r_in)/(a*e))\n",
    "    \n",
    "    peri_par = a*(1-e)\n",
    "    apo_par = a*(1+e)\n",
    "    \n",
    "    cond0_peri_par = peri_par > r_out\n",
    "    cond0_apo_par = apo_par < r_in\n",
    "    condizione1_peri = peri_par > r_in\n",
    "    condizione1_apo = apo_par < r_out\n",
    "    condizione2_peri = peri_par < r_in\n",
    "    condizione2_apo = apo_par > r_out\n",
    "    condizione3_peri = peri_par < r_in\n",
    "    condizione31_apo =  apo_par < r_out\n",
    "    condizione32_apo = apo_par > r_in\n",
    "    condizione41_peri = peri_par < r_out\n",
    "    condizione42_peri = peri_par > r_in\n",
    "    condizione4_apo = apo_par > r_out\n",
    "    \n",
    "    if (cond0_peri_par|cond0_apo_par): \n",
    "        phi = 0\n",
    "        return(phi) \n",
    "    \n",
    "    if (condizione1_peri and condizione1_apo):\n",
    "        phi = 1\n",
    "        return(phi)\n",
    "    elif (condizione2_peri and condizione2_apo):\n",
    "        phi = (E_out_par - E_in_par -e *(np.sin(E_out_par) - np.sin(E_in_par)))/np.pi\n",
    "        return(phi)\n",
    "    elif (condizione3_peri and (condizione31_apo and condizione32_apo)):\n",
    "        phi = 1 - (E_in_par - e*(np.sin(E_in_par)))/np.pi\n",
    "        return(phi)\n",
    "    elif ((condizione41_peri and condizione42_peri) and condizione4_apo):\n",
    "        phi = (E_out_par - e*(np.sin(E_out_par)))/np.pi\n",
    "        return(phi)\n",
    "    else: \n",
    "        print('i dont really know what to print')\n",
    "        phi = phi\n",
    "        return(phi)"
   ]
  },
  {
   "cell_type": "markdown",
   "id": "35b9b77d-8efc-4721-941d-5d54f2751118",
   "metadata": {},
   "source": [
    "## Radar Main\n",
    "\n",
    "This function is called as a main when a pure radar network is assumed to be in place.\n",
    "In it, all the above defined functions are used, so as to retrieve the needed information and compute the FEI. \n",
    "\n",
    "It takes as inputs:\n",
    "* the cloud file (from MASTER)\n",
    "* the fragmentation altitude $h_{frag}$\n",
    "* the minimum detectable size at $h_{max}$\n",
    "* the maximum altitude at which the use of radar sensors is considered to be effective\n",
    "* a piece of string, created with s_min and h_max, so it is in principle not needed...\n",
    "\n",
    "It gives as outputs:\n",
    "* day_list (list of epoch after fragmentation, in Days)\n",
    "* global_CSI_cloud_only_list (weights are considered)\n",
    "* global_CSI_cloud_only_list_no_weights (weights are all set to one)\n",
    "* global_CSI_list (cloud + background CSI, weights are considered)\n",
    "* global_CSI_list_no_weights (cloud + background CSI, weights are all set to one)\n",
    "* ratios_list (percentage FEI values)"
   ]
  },
  {
   "cell_type": "code",
   "execution_count": null,
   "id": "7e1b393a",
   "metadata": {
    "lines_to_next_cell": 0
   },
   "outputs": [],
   "source": [
    "def radar_main(nube, h_coll, s_min, h_max, piece_of_string):\n",
    "    thresh = threshold_radar(h_coll,s_min,h_max) #minimum detectable size for a given rho_frag\n",
    "\n",
    "    print('In this case, the minimum detectable size for a fragment at h_frag is ABOUT ', thresh, 'cm')\n",
    "\n",
    "    global_CSI_list = []\n",
    "    global_CSI_list_no_weights = []\n",
    "    global_CSI_cloud_only_list = []\n",
    "    global_CSI_cloud_only_list_no_weights = []\n",
    "    \n",
    "    day_list = []\n",
    "    ratios_list = []\n",
    "    ratios_no_weights_list = []\n",
    "    \n",
    "    mass_parent = 2000\n",
    "    a_parent = h_coll + r_e\n",
    "    e_parent = 0.00003\n",
    "    inc_parent = 80.3\n",
    "    \n",
    "    CSI_background, CSI_background_no_weights = np.loadtxt('/Users/luigigisolfi/' + str(nube) + '/CSI_out/CSI0_radar' + piece_of_string + '.out', unpack = True, usecols = (0,1))\n",
    "    CSI_background_array = np.array(CSI_background)\n",
    "    CSI_background_no_weights_array = np.array(CSI_background_no_weights)\n",
    "    \n",
    "    if os.path.isdir('/Users/luigigisolfi/' + str(nube) + '/figures/radar' + piece_of_string):\n",
    "        print('path for figures already exists!')\n",
    "    else:\n",
    "        os.mkdir('/Users/luigigisolfi/' + str(nube) + '/figures/radar' + piece_of_string)\n",
    "        \n",
    "    if os.path.isdir('/Users/luigigisolfi/' + str(nube)+ '/weights/radar' + piece_of_string):\n",
    "        print('path for weights already exists!')\n",
    "    else:\n",
    "        os.mkdir('/Users/luigigisolfi/' + str(nube)+ '/weights/radar' + piece_of_string)\n",
    "        \n",
    "    for filename in os.listdir('/Users/luigigisolfi/' + str(nube)):\n",
    "        f = os.path.join('/Users/luigigisolfi/' + str(nube), filename)\n",
    "        if (os.path.isdir(f) == True):\n",
    "            print(str(f) + ' is a directory!')\n",
    "            continue\n",
    "        else:\n",
    "            if (filename[6:9].isnumeric() and float(filename[6:9]) > 100):\n",
    "                continue\n",
    "            elif (f[-4:] == '.fla' and filename != 'cloud_init.fla' and filename != 'fragment.fla' and filename != 'delta_v_1200_km.fla'):\n",
    "                print(filename)\n",
    "                np.set_printoptions(threshold=np.inf)\n",
    "                epoch, n, area, mass, a, e, inc, Omega, omega, M = np.loadtxt(f, unpack = True, usecols = (0,1,2,3,4,5,6,7,8,9))\n",
    "                f_weights = os.path.join('/Users/luigigisolfi/' + str(nube) + '/weights/radar' + piece_of_string + '/' + filename[:-4] + '_weights.fla')\n",
    "            else: \n",
    "                continue\n",
    "                \n",
    "        sizes = np.sqrt(4*area/np.pi) #area in m^2, sizes in m\n",
    "        sizes = sizes*100 #in cm\n",
    "        sizes_cond = sizes >=1 \n",
    "        sensor_cond = a-r_e < 1200\n",
    "        combined = sizes_cond & sensor_cond  \n",
    "        e_cond = e <= 0.5\n",
    "        combined = combined & e_cond\n",
    "        a = a[combined]        \n",
    "        sizes = sizes[combined]\n",
    "        e = e[combined]\n",
    "        inc = inc[combined]\n",
    "        mass = mass[combined]\n",
    "\n",
    "        weights = list(map(w_radar, sizes,a))\n",
    "\n",
    "        CSI_shell_list = []\n",
    "        CSI_shell_list_no_weights = []\n",
    "        CSI_parent_list = []\n",
    "        CSI_parent_list_no_weights = []\n",
    "        CSI_post_list= []\n",
    "        CSI_post_list_no_weights = []\n",
    "        CSI_pre_list = []\n",
    "\n",
    "        no_weights = np.ones(len(weights))\n",
    "\n",
    "        np.set_printoptions(threshold=np.inf)\n",
    "\n",
    "        array = np.transpose(np.array([sizes, weights])) #array with sizes and associated weights\n",
    "        \n",
    "        with open('/Users/luigigisolfi/' + str(nube)+ '/weights/radar' + piece_of_string + '/' + str(filename[:-4]) + '_weights.fla', 'w') as fw:\n",
    "        \n",
    "            for line in array:\n",
    "                fw.writelines(str(line)[1:-1] + '\\n')\n",
    "\n",
    "            for r_in in range(200 + 6378,1200 + 6378,50):\n",
    "                \n",
    "                r_out = r_in + 50 \n",
    "                \n",
    "                f_CSI_shell = fractional_CSI(mass,a,e,inc,weights, r_in, r_out) #all objects weighted fractional CSI on a single shell\n",
    "                f_CSI_shell_array = np.array(f_CSI_shell) #make it into array so as to perform operations on it later on\n",
    "                \n",
    "                f_CSI_shell_no_weights =fractional_CSI(mass,a,e,inc,no_weights, r_in, r_out)#all objects fractional CSI (w=1) on a single shell\n",
    "                f_CSI_shell_no_weights_array = np.array(f_CSI_shell_no_weights)\n",
    "                \n",
    "                f_CSI_shell_parent = 0 \n",
    "                f_CSI_shell_parent_no_weights = fractional_CSI_new(mass_parent,a_parent,e_parent,inc_parent,1,r_in,r_out) #parent object CSI (w =1)\n",
    "\n",
    "                total_CSI_shell = np.sum(f_CSI_shell_array)  #computing sum on j of (Post_j-Pre_j) = (Frag_j - Parent_j) on every shell j \n",
    "                total_CSI_shell_no_weights = np.sum(f_CSI_shell_no_weights_array) #same but w = 1\n",
    "                      \n",
    "                CSI_shell_list.append(total_CSI_shell) #append the result into a list made of each day's results\n",
    "                CSI_shell_list_no_weights.append(total_CSI_shell_no_weights) #same as above with w = 1\n",
    "\n",
    "                CSI_parent_list.append(f_CSI_shell_parent)\n",
    "                CSI_parent_list_no_weights.append(f_CSI_shell_parent_no_weights)\n",
    "            \n",
    "            CSI_shell_list_array = np.array(CSI_shell_list) #make list into array so as to perform operations later on\n",
    "            CSI_shell_list_no_weights_array = np.array(CSI_shell_list_no_weights)  #make list into array so as to perform operations later on\n",
    "            \n",
    "            CSI_parent_list_array = np.array(CSI_parent_list)\n",
    "            CSI_parent_list_no_weights_array = np.array(CSI_parent_list_no_weights)\n",
    "            \n",
    "            CSI_background_array = CSI_background_array + CSI_parent_list_array #made of master + parent\n",
    "            CSI_background_no_weights_array = CSI_background_no_weights_array + CSI_parent_list_no_weights_array #made of master + parent\n",
    "\n",
    "            CSI_post = CSI_background_array + CSI_shell_list_array - CSI_parent_list_array #add cloud, subtract parent\n",
    "            CSI_pre = CSI_background_array \n",
    "\n",
    "            CSI_post_no_weights = CSI_background_no_weights_array + CSI_shell_list_no_weights_array - CSI_parent_list_no_weights_array #add cloud, subtract parent\n",
    "            CSI_pre_no_weights = CSI_background_no_weights_array \n",
    "            \n",
    "            CSI_post_list.append(CSI_post)\n",
    "            CSI_post_list_no_weights.append(CSI_post_no_weights)\n",
    "            CSI_pre_list.append(CSI_pre)\n",
    "\n",
    "            ratios = (CSI_post - CSI_pre)/(CSI_pre)\n",
    "            ratios_no_weights = (CSI_post_no_weights - CSI_pre_no_weights)/(CSI_pre_no_weights)\n",
    "                                            \n",
    "            ratios_list.append(ratios) #put them in a list (every element contains the ratio for each altitude at each day)\n",
    "            ratios_no_weights_list.append(ratios_no_weights)\n",
    "                                            \n",
    "        array_CSI_post_pre = np.transpose(np.array([CSI_post_list, CSI_pre_list]))\n",
    "        \n",
    "        # if filename[6:9] == '100' or filename[6:9] == '001':\n",
    "        #    with open('/Users/luigigisolfi/' + str(nube)+ '/radar_CSI_post_pre_' + filename[6:9] +piece_of_string, 'w') as fw:\n",
    "        #        for line in array_CSI_post_pre:\n",
    "        #            fw.writelines(str(line)[2:-2] + '\\n')\n",
    "\n",
    "        if float(filename[6:9]) <= 100 and float(filename[6:9]) > 1:\n",
    "            print(filename)\n",
    "            with open(filename, 'w') as fw:\n",
    "                for line in array_CSI_post_pre:\n",
    "                    fw.writelines(str(line)[2:-2] + '\\n')\n",
    "    \n",
    "        global_CSI_cloud_only = np.sum(CSI_shell_list_array) #sum of the cumulative csi on all shells (only Frag - Parent)\n",
    "        global_CSI_cloud_only_no_weights = np.sum(CSI_shell_list_no_weights_array) #same \n",
    "\n",
    "        global_CSI = np.sum(np.array(CSI_post_list)) #sum of the cumulative csi on all shells \n",
    "        global_CSI_no_weights = np.sum(np.array(CSI_post_list_no_weights)) #same \n",
    "        \n",
    "        #outputs to be used in plotter function\n",
    "        global_CSI_cloud_only_list.append(global_CSI_cloud_only)\n",
    "        global_CSI_cloud_only_list_no_weights.append(global_CSI_cloud_only_no_weights)\n",
    "        global_CSI_list.append(global_CSI) #append it for each day\n",
    "        global_CSI_list_no_weights.append(global_CSI_no_weights)\n",
    "        #day_list.append(float(filename[6:9])) #list of days\n",
    "        day_list.append(float(filename[6:9])) #list of days\n",
    "    print(day_list)\n",
    "\n",
    "    array_cumulative_cloud_CSI = np.transpose(np.array([day_list,global_CSI_cloud_only_list]))\n",
    "    array_cumulative_cloud_CSI_no_weights = np.transpose(np.array([day_list,global_CSI_cloud_only_list_no_weights]))\n",
    "    array_global_CSI = np.transpose(np.array([day_list, global_CSI_list]))\n",
    "    \n",
    "    with open('/Users/luigigisolfi/' + str(nube)+ '/radar_array_global_CSI_cloud_only' + piece_of_string, 'w') as fw:\n",
    "        for line in array_cumulative_cloud_CSI:\n",
    "            fw.writelines(str(line)[1:-1] + '\\n')\n",
    "        \n",
    "    with open('/Users/luigigisolfi/' + str(nube)+ '/radar_array_global_CSI_cloud_only_list_no_weights' + piece_of_string, 'w') as fw:\n",
    "        for line in array_cumulative_cloud_CSI_no_weights:\n",
    "            fw.writelines(str(line)[1:-1] + '\\n')\n",
    "    \n",
    "    with open('/Users/luigigisolfi/' + str(nube)+  '/radar_array_global_CSI' + piece_of_string, 'w') as fw:\n",
    "        for line in array_global_CSI:\n",
    "            fw.writelines(str(line)[1:-1] + '\\n')\n",
    "\n",
    "    pos_1 = day_list.index(1) #at day 1\n",
    "    pos_100 = day_list.index(100) #at day 100\n",
    "\n",
    "    ratios_100 = ratios_list[pos_100]\n",
    "    ratios_1 = ratios_list[pos_1]\n",
    "    shells = np.arange(250,1250,50)\n",
    "    print(len(shells), len(ratios_1))\n",
    "    print(len(shells), len(ratios_100))\n",
    "\n",
    "    array_shells_ratios_100 = np.transpose(np.array([shells,ratios_100]))\n",
    "    array_shells_ratios_1 = np.transpose(np.array([shells,ratios_1]))\n",
    "    \n",
    "    with open('/Users/luigigisolfi/' + str(nube)+ '/array_shells_ratios_100_radar' + piece_of_string, 'w') as fw:\n",
    "        for line in array_shells_ratios_100:\n",
    "            fw.writelines(str(line)[1:-1] + '\\n')\n",
    "    with open('/Users/luigigisolfi/' + str(nube)+ '/array_shells_ratios_1_radar' + piece_of_string, 'w') as fw:\n",
    "        for line in array_shells_ratios_1:\n",
    "            fw.writelines(str(line)[1:-1] + '\\n')\n",
    "    \n",
    "    return(day_list, global_CSI_cloud_only_list, global_CSI_cloud_only_list_no_weights, global_CSI_list, global_CSI_list_no_weights, ratios_list)"
   ]
  },
  {
   "cell_type": "markdown",
   "id": "4bea5e95-ada3-49c7-aed0-7d84454415be",
   "metadata": {},
   "source": [
    "## Optical Main\n",
    "\n",
    "This function is called as a main when a pure optical network is assumed to be in place.\n",
    "In it, all the above defined functions are used, so as to retrieve the needed information and compute the FEI. \n",
    "\n",
    "It takes as inputs:\n",
    "* the cloud file (from MASTER)\n",
    "* the fragmentation altitude $h_{frag}$\n",
    "* the minimum detectable size at $h_{max}$\n",
    "* the maximum altitude at which the use of radar sensors is considered to be effective\n",
    "* a piece of string, created with s_min and h_max, so it is in principle not needed...\n",
    "\n",
    "It gives as outputs:\n",
    "* day_list (list of epoch after fragmentation, in Days)\n",
    "* global_CSI_cloud_only_list (weights are considered)\n",
    "* global_CSI_cloud_only_list_no_weights (weights are all set to one)\n",
    "* global_CSI_list (cloud + background CSI, weights are considered)\n",
    "* global_CSI_list_no_weights (cloud + background CSI, weights are all set to one)\n",
    "* ratios_list (percentage FEI values)"
   ]
  },
  {
   "cell_type": "code",
   "execution_count": null,
   "id": "b7b0d018-af39-4d2b-b9f1-919a4c824714",
   "metadata": {
    "lines_to_next_cell": 1
   },
   "outputs": [],
   "source": [
    "def optical_main(nube, h_coll, s_min,h_max, piece_of_string):\n",
    "    \n",
    "    thresh = threshold(h_coll,s_min,h_max) #minimum detectable size for a given rho_frag\n",
    "    global_CSI_list = []\n",
    "    global_CSI_list_no_weights = []\n",
    "    global_CSI_cloud_only_list = []\n",
    "    global_CSI_cloud_only_list_no_weights = []\n",
    "    \n",
    "    day_list = []\n",
    "    ratios_list = []\n",
    "    ratios_no_weights_list = []\n",
    "    \n",
    "    mass_parent = 2000\n",
    "    a_parent = h_coll + r_e\n",
    "    e_parent = 0.00003\n",
    "    inc_parent = 80.3\n",
    "    \n",
    "    CSI_background, CSI_background_no_weights = np.loadtxt('/Users/luigigisolfi/' + str(nube) + '/CSI_out/CSI0_optical' + piece_of_string + '.out', unpack = True, usecols = (0,1))\n",
    "    CSI_background_array = np.array(CSI_background)\n",
    "    CSI_background_no_weights_array = np.array(CSI_background_no_weights)\n",
    "    \n",
    "    omega_j_elem = w_t_sig(h_coll) #associated w_t_sig weight (depending on wether we are in LOW LEO, MED LEO or HIGH LEO)\n",
    "    \n",
    "    if os.path.isdir('/Users/luigigisolfi/' + str(nube) + '/figures/optical' + piece_of_string):\n",
    "        print('path for figures already exists!')\n",
    "    else:\n",
    "        os.mkdir('/Users/luigigisolfi/' + str(nube) + '/figures/optical' + piece_of_string)\n",
    "        \n",
    "    if os.path.isdir('/Users/luigigisolfi/' + str(nube)+ '/weights/optical' + piece_of_string):\n",
    "        print('path for weights already exists!')\n",
    "    else:\n",
    "        os.mkdir('/Users/luigigisolfi/' + str(nube)+ '/weights/optical' + piece_of_string)\n",
    "    \n",
    "    for filename in os.listdir('/Users/luigigisolfi/' + str(nube)):\n",
    "        f = os.path.join('/Users/luigigisolfi/' + str(nube), filename)\n",
    "        if (os.path.isdir(f) == True):\n",
    "            print(str(f) + ' is a directory!')\n",
    "            continue\n",
    "        else:\n",
    "            if (filename[6:9].isnumeric() and float(filename[6:9]) > 100):\n",
    "                continue\n",
    "            elif (f[-4:] == '.fla' and filename != 'cloud_init.fla' and filename != 'fragment.fla'):\n",
    "                print(filename)\n",
    "                np.set_printoptions(threshold=np.inf)\n",
    "                epoch, n, area, mass, a, e, inc, Omega, omega, M = np.loadtxt(f, unpack = True, usecols = (0,1,2,3,4,5,6,7,8,9))\n",
    "                f_weights = os.path.join('/Users/luigigisolfi/' + str(nube) + '/weights/optical' + piece_of_string + '/' + filename[:-4] + '_weights.fla')\n",
    "                \n",
    "            else: \n",
    "                continue\n",
    "                        \n",
    "            sizes = np.sqrt(4*area/np.pi) #area in m^2, sizes in m\n",
    "            sizes = sizes*100 #in cm\n",
    "            sizes_cond = sizes >=1\n",
    "            sensor_cond = a-r_e >=1200\n",
    "            combined = sizes_cond & sensor_cond  \n",
    "            e_cond = e <= 0.5\n",
    "            combined = combined & e_cond\n",
    "            a = a[combined]\n",
    "        \n",
    "            sizes = sizes[combined]\n",
    "            e = e[combined]\n",
    "            inc = inc[combined]\n",
    "            mass = mass[combined]\n",
    "        \n",
    "            omega_i_map = list(map(w_E_RSO, sizes,a))\n",
    "            omega_i_map = np.array(omega_i_map)\n",
    "            \n",
    "            omega_j_map = np.full(shape= len(omega_i_map), fill_value=omega_j_elem,dtype=float)\n",
    "            \n",
    "            weights = list(map(get_omega_optical_sum, omega_i_map, omega_j_map))\n",
    "\n",
    "            np.set_printoptions(threshold=np.inf)\n",
    "\n",
    "            array = np.transpose(np.array([sizes, weights])) #array with sizes and associated weights\n",
    "            \n",
    "            with open('/Users/luigigisolfi/' + str(nube)+ '/weights/optical' + piece_of_string + '/' + str(filename[:-4]) + '_weights.fla', 'w') as fw:\n",
    "                for line in array:\n",
    "                    fw.writelines(str(line)[1:-1] + '\\n')\n",
    "\n",
    "            CSI_shell_list = []\n",
    "            CSI_shell_list_no_weights = []\n",
    "            CSI_parent_list = []\n",
    "            CSI_parent_list_no_weights = []\n",
    "            CSI_post_list= []\n",
    "            CSI_post_list_no_weights = []\n",
    "            CSI_pre_list = []            \n",
    "            no_weights = np.ones(len(weights))\n",
    "\n",
    "            \n",
    "            for r_in in range(1200 + 6378,2000 + 6378,50):\n",
    "                \n",
    "                r_out = r_in + 50 \n",
    "                \n",
    "                f_CSI_shell = fractional_CSI(mass,a,e,inc, weights, r_in, r_out) #all objects weighted fractional CSI on a single shell\n",
    "                f_CSI_shell_array = np.array(f_CSI_shell) #make it into array so as to perform operations on it later on\n",
    "                \n",
    "                f_CSI_shell_no_weights =fractional_CSI(mass,a,e,inc, no_weights, r_in, r_out)#all objects fractional CSI (w=1) on a single shell\n",
    "                f_CSI_shell_no_weights_array = np.array(f_CSI_shell_no_weights)\n",
    "                \n",
    "                f_CSI_shell_parent = 0 \n",
    "                f_CSI_shell_parent_no_weights = fractional_CSI_new(mass_parent,a_parent,e_parent,inc_parent,1, r_in,r_out) #parent object CSI (w =1)\n",
    "\n",
    "                total_CSI_shell = np.sum(f_CSI_shell_array)  #computing sum on j of (Post_j-Pre_j) = (Frag_j - Parent_j) on every shell j \n",
    "                total_CSI_shell_no_weights = np.sum(f_CSI_shell_no_weights_array) #same but w = 1\n",
    "                      \n",
    "                CSI_shell_list.append(total_CSI_shell) #append the result into a list made of each day's results\n",
    "                CSI_shell_list_no_weights.append(total_CSI_shell_no_weights) #same as above with w = 1\n",
    "\n",
    "                CSI_parent_list.append(f_CSI_shell_parent)\n",
    "                CSI_parent_list_no_weights.append(f_CSI_shell_parent_no_weights)\n",
    "            \n",
    "            CSI_shell_list_array = np.array(CSI_shell_list) #make list into array so as to perform operations later on\n",
    "            CSI_shell_list_no_weights_array = np.array(CSI_shell_list_no_weights)  #make list into array so as to perform operations later on\n",
    "            \n",
    "            CSI_parent_list_array = np.array(CSI_parent_list)\n",
    "            CSI_parent_list_no_weights_array = np.array(CSI_parent_list_no_weights)\n",
    "            \n",
    "            CSI_background_array = CSI_background_array + CSI_parent_list_array #made of master + parent\n",
    "            CSI_background_no_weights_array = CSI_background_no_weights_array + CSI_parent_list_no_weights_array #made of master + parent\n",
    "\n",
    "            CSI_post = CSI_background_array + CSI_shell_list_array - CSI_parent_list_array #add cloud, subtract parent\n",
    "            CSI_pre = CSI_background_array\n",
    "\n",
    "            CSI_post_no_weights = CSI_background_no_weights_array + CSI_shell_list_no_weights_array - CSI_parent_list_no_weights_array #add cloud, subtract parent\n",
    "            CSI_pre_no_weights = CSI_background_no_weights_array \n",
    "            \n",
    "            CSI_post_list.append(CSI_post)\n",
    "            CSI_post_list_no_weights.append(CSI_post_no_weights)\n",
    "            CSI_pre_list.append(CSI_pre)\n",
    "\n",
    "            ratios = (CSI_post - CSI_pre)/(CSI_pre)\n",
    "\n",
    "            ratios_no_weights = (CSI_post_no_weights - CSI_pre_no_weights)/(CSI_pre_no_weights)\n",
    "                                            \n",
    "            ratios_list.append(ratios) #put them in a list (every element contains the ratio for each altitude at each day)\n",
    "            ratios_no_weights_list.append(ratios_no_weights)\n",
    "                                            \n",
    "        array_CSI_post_pre = np.transpose(np.array([CSI_post_list, CSI_pre_list]))\n",
    "\n",
    "        if filename[6:9] == '100' or filename[6:9] == '001':\n",
    "            with open('/Users/luigigisolfi/' + str(nube)+ '/optical_CSI_post_pre_' + filename[6:9] +piece_of_string, 'w') as fw:\n",
    "                for line in array_CSI_post_pre:\n",
    "                    fw.writelines(str(line)[2:-2] + '\\n')\n",
    "\n",
    "        global_CSI_cloud_only = np.sum(CSI_shell_list_array) #sum of the cumulative csi on all shells (only Frag - Parent)\n",
    "        global_CSI_cloud_only_no_weights = np.sum(CSI_shell_list_no_weights_array) #same \n",
    "    \n",
    "        global_CSI = np.sum(np.array(CSI_post_list)) #sum of the cumulative csi on all shells \n",
    "        global_CSI_no_weights = np.sum(np.array(CSI_post_list_no_weights)) #same \n",
    "        \n",
    "        #outputs to be used in plotter function\n",
    "        global_CSI_cloud_only_list.append(global_CSI_cloud_only)\n",
    "        global_CSI_cloud_only_list_no_weights.append(global_CSI_cloud_only_no_weights)\n",
    "        global_CSI_list.append(global_CSI) #append it for each day\n",
    "        global_CSI_list_no_weights.append(global_CSI_no_weights)\n",
    "        day_list.append(float(filename[6:9])) #list of days\n",
    "        \n",
    "    array_cumulative_cloud_CSI = np.transpose(np.array([day_list,global_CSI_cloud_only_list]))\n",
    "    array_cumulative_cloud_CSI_no_weights = np.transpose(np.array([day_list,global_CSI_cloud_only_list_no_weights]))\n",
    "    array_global_CSI = np.transpose(np.array([day_list, global_CSI_list]))\n",
    "    \n",
    "    with open('/Users/luigigisolfi/' + str(nube)+ '/optical_array_global_CSI_cloud_only' + piece_of_string, 'w') as fw:\n",
    "        for line in array_cumulative_cloud_CSI:\n",
    "            fw.writelines(str(line)[1:-1] + '\\n')\n",
    "        \n",
    "    with open('/Users/luigigisolfi/' + str(nube)+ '/optical_array_global_CSI_cloud_only_list_no_weights' + piece_of_string, 'w') as fw:\n",
    "        for line in array_cumulative_cloud_CSI_no_weights:\n",
    "            fw.writelines(str(line)[1:-1] + '\\n')\n",
    "    \n",
    "    with open('/Users/luigigisolfi/' + str(nube)+  '/optical_array_global_CSI' + piece_of_string, 'w') as fw:\n",
    "        for line in array_global_CSI:\n",
    "            fw.writelines(str(line)[1:-1] + '\\n')\n",
    "\n",
    "    pos_1 = day_list.index(1) #at day 1\n",
    "    pos_100 = day_list.index(100) #at day 100\n",
    "\n",
    "    ratios_100 = ratios_list[pos_100]\n",
    "    ratios_1 = ratios_list[pos_1]\n",
    "    shells = np.arange(1250,2050,50)\n",
    "\n",
    "    array_shells_ratios_100 = np.transpose(np.array([shells,ratios_100]))\n",
    "    array_shells_ratios_1 = np.transpose(np.array([shells,ratios_1]))\n",
    "    \n",
    "    with open('/Users/luigigisolfi/' + str(nube)+ '/array_shells_ratios_100_optical' + piece_of_string, 'w') as fw:\n",
    "        for line in array_shells_ratios_100:\n",
    "            fw.writelines(str(line)[1:-1] + '\\n')\n",
    "    with open('/Users/luigigisolfi/' + str(nube)+ '/array_shells_ratios_1_optical' + piece_of_string, 'w') as fw:\n",
    "        for line in array_shells_ratios_1:\n",
    "            fw.writelines(str(line)[1:-1] + '\\n')\n",
    "\n",
    "    return(day_list, global_CSI_cloud_only_list, global_CSI_cloud_only_list_no_weights, global_CSI_list, global_CSI_list_no_weights, ratios_list)"
   ]
  },
  {
   "cell_type": "markdown",
   "id": "60cb2003-8187-43e8-89f0-14507dd23501",
   "metadata": {},
   "source": [
    "## Background Population FEI Computation\n",
    "As done for the fragmentaiton cloud, we compute the FEI for each of the objects that were present in the atmosphere before the fragmentation event. These constitute the background population. \n",
    "As done above, this is computed for optical and/or radar."
   ]
  },
  {
   "cell_type": "code",
   "execution_count": null,
   "id": "6dcdb881-b3f3-4157-ad89-a951e5fe94e8",
   "metadata": {
    "lines_to_next_cell": 1
   },
   "outputs": [],
   "source": [
    "def radar_main_background(nube, h_coll, s_min,h_max, piece_of_string, background_pop):\n",
    "        \n",
    "    if not os.path.isfile(background_pop):\n",
    "        print('Could not find background population file. Aborting...')\n",
    "        exit()\n",
    "    n, mass, sizes, area, a, e, inc, Omega, omega, M = np.loadtxt(background_pop, unpack = True, usecols = (0,1,2,3,4,5,6,7,8,9))\n",
    "    sensor_action_range = np.where(a - r_e >= 1200)\n",
    "            \n",
    "    sizes = np.sqrt(4*area/np.pi) #area in m^2, sizes in m\n",
    "    sizes = sizes*100 #in cm\n",
    "    sizes_cond = sizes >=1\n",
    "    sensor_cond = a-r_e < 1200\n",
    "    #index_sizes = np.where(sizes >= 1)\n",
    "    combined = sizes_cond & sensor_cond\n",
    "    e_cond = e <= 0.5\n",
    "    combined = combined & e_cond\n",
    "    a = a[combined]\n",
    "    sizes = sizes[combined]\n",
    "    \n",
    "    weights = list(map(w_radar, sizes,a))\n",
    "\n",
    "    np.set_printoptions(threshold=np.inf)\n",
    "\n",
    "    array = np.transpose(np.array([sizes, weights])) #array with sizes and associated weights\n",
    "    \n",
    "    with open('/Users/luigigisolfi/' f'weights_background_radar{piece_of_string}.fla', 'w') as fw:\n",
    "        for line in array:\n",
    "            fw.writelines(str(line)[1:-1] + '\\n')\n",
    "\n",
    "    e = e[combined]\n",
    "    inc = inc[combined]\n",
    "    mass = mass[combined]\n",
    "    \n",
    "    no_weights = np.ones(len(weights))\n",
    "\n",
    "    with open('/Users/luigigisolfi/' + str(nube) + '/CSI_out' + '/CSI0_radar' + piece_of_string + '.out', 'w') as fw_CSI0:\n",
    "        \n",
    "        for r_in in range(200 + 6378,1200 + 6378,50):\n",
    "            \n",
    "            r_out = r_in + 50 \n",
    "            \n",
    "            f_CSI_shell = fractional_CSI(mass,a,e,inc,weights, r_in, r_out) #all objects weighted fractional CSI on a single shell\n",
    "            f_CSI_shell_array = np.array(f_CSI_shell) #make it into array so as to perform operations on it later on\n",
    "            \n",
    "            f_CSI_shell_no_weights =fractional_CSI(mass,a,e,inc,no_weights, r_in, r_out)#all objects fractional CSI (w=1) on a single shell\n",
    "            f_CSI_shell_no_weights_array = np.array(f_CSI_shell_no_weights)\n",
    "            \n",
    "            total_CSI_shell = np.sum(f_CSI_shell_array)  #computing sum on j of (Post_j-Pre_j) = (Frag_j - Parent_j) on every shell j \n",
    "            total_CSI_shell_no_weights = np.sum(f_CSI_shell_no_weights_array) #same but w = 1\n",
    "\n",
    "                     \n",
    "            fw_CSI0.writelines(str(total_CSI_shell) + ' ' + str(total_CSI_shell_no_weights) + '\\n')\n",
    "\n",
    "def optical_main_background(nube, h_coll, s_min,h_max, piece_of_string, background_pop):\n",
    "    \n",
    "    omega_j_elem = w_t_sig(h_coll) #associated w_t_sig weight (depending on wether we are in LOW LEO, MED LEO or HIGH LEO)\n",
    "    \n",
    "    if not os.path.isfile(background_pop):\n",
    "        print('Could not find background population file. Aborting...')\n",
    "        exit()\n",
    "    n, mass, sizes, area, a, e, inc, Omega, omega, M = np.loadtxt(background_pop, unpack = True, usecols = (0,1,2,3,4,5,6,7,8,9))\n",
    "    sensor_action_range = np.where(a - r_e >= 1200)\n",
    "            \n",
    "    sizes = np.sqrt(4*area/np.pi) #area in m^2, sizes in m\n",
    "    sizes = sizes*100 #in cm\n",
    "    sizes_cond = sizes >=1\n",
    "    sensor_cond = a-r_e >=1200\n",
    "    #index_sizes = np.where(sizes >= 1)\n",
    "    combined = sizes_cond & sensor_cond\n",
    "    e_cond = e <= 0.5\n",
    "    combined = combined & e_cond\n",
    "    a = a[combined]\n",
    "    sizes = sizes[combined]\n",
    "\n",
    "    omega_i_list =[] #initialize w_E_RSO list\n",
    "    omega_i_map = list(map(w_E_RSO, sizes,a))\n",
    "    omega_i_map = np.array(omega_i_map)\n",
    "            \n",
    "    omega_j_map = np.full(shape= len(omega_i_map), fill_value=omega_j_elem,dtype=float)\n",
    "    \n",
    "    weights = list(map(get_omega_optical_sum, omega_i_map, omega_j_map))\n",
    "\n",
    "    np.set_printoptions(threshold=np.inf)\n",
    "\n",
    "    array = np.transpose(np.array([sizes, weights])) #array with sizes and associated weights\n",
    "    \n",
    "    with open('/Users/luigigisolfi/' f'weights_background_optical{piece_of_string}.fla', 'w') as fw:\n",
    "        for line in array:\n",
    "            fw.writelines(str(line)[1:-1] + '\\n')\n",
    "\n",
    "    e = e[combined]\n",
    "    inc = inc[combined]\n",
    "    mass = mass[combined]\n",
    "    \n",
    "    no_weights = np.ones(len(weights))\n",
    "\n",
    "    with open('/Users/luigigisolfi/' + str(nube) + '/CSI_out' + f'/CSI0_optical{piece_of_string}' + '.out', 'w') as fw_CSI0:\n",
    "        \n",
    "        for r_in in range(1200 + 6378,2000 + 6378,50):\n",
    "            \n",
    "            r_out = r_in + 50 \n",
    "            \n",
    "            f_CSI_shell = fractional_CSI(mass,a,e,inc,weights, r_in, r_out) #all objects weighted fractional CSI on a single shell\n",
    "            f_CSI_shell_array = np.array(f_CSI_shell) #make it into array so as to perform operations on it later on\n",
    "            \n",
    "            f_CSI_shell_no_weights =fractional_CSI(mass,a,e,inc,no_weights, r_in, r_out)#all objects fractional CSI (w=1) on a single shell\n",
    "            f_CSI_shell_no_weights_array = np.array(f_CSI_shell_no_weights)\n",
    "            \n",
    "            total_CSI_shell = np.sum(f_CSI_shell_array)  #computing sum on j of (Post_j-Pre_j) = (Frag_j - Parent_j) on every shell j \n",
    "            total_CSI_shell_no_weights = np.sum(f_CSI_shell_no_weights_array) #same but w = 1\n",
    "\n",
    "            fw_CSI0.writelines(str(total_CSI_shell) + ' ' + str(total_CSI_shell_no_weights) + '\\n')   "
   ]
  },
  {
   "cell_type": "markdown",
   "id": "ba585d8e-847e-458d-bbd2-20d33fcb93c7",
   "metadata": {
    "lines_to_next_cell": 1
   },
   "source": [
    "## Visualizing the Results\n",
    "\n",
    "Some functions are written to properly visualize and make sense of the various results we obtained from the simulations:\n",
    "\n",
    "1) plotter_CSI\n",
    "2) plotter_FEI\n",
    "3) multi_plotter_CSI\n",
    "4) modulated_FEI"
   ]
  },
  {
   "cell_type": "code",
   "execution_count": null,
   "id": "15a1acd2-5d7c-4800-99d7-789cfc8ac1fa",
   "metadata": {
    "lines_to_next_cell": 1
   },
   "outputs": [],
   "source": [
    "def plotter_CSI(network_type, c):\n",
    "    \n",
    "    plt.plot(day_list, global_CSI_cloud_only_list, 'o', ms = 3, color = c)\n",
    "    plt.title(f'Cumulative Cloud CSI ({network_type}, {size})')\n",
    "    plt.xlabel('Days From Collision')\n",
    "    plt.ylabel('Cumulative Cloud CSI')\n",
    "    plt.tight_layout()\n",
    "    plt.savefig('/Users/luigigisolfi/' + str(nube) + f'/figures/{network_type}{piece_of_string}' + '/Cumulative_Cloud_CSI')\n",
    "    plt.show()\n",
    "\n",
    "    \n",
    "    plt.plot(day_list, global_CSI_cloud_only_list_no_weights, 'o', ms = 3, color = 'blue')\n",
    "    plt.title('Cumulative Cloud CSI (w_tr = 1)')\n",
    "    plt.xlabel('Days From Collision')\n",
    "    plt.ylabel('Cumulative Cloud CSI')\n",
    "    plt.tight_layout()\n",
    "    plt.savefig('/Users/luigigisolfi/' + str(nube) + f'/figures/{network_type}{piece_of_string}' + '/Cumulative_Cloud_CSI_no_track')\n",
    "    plt.show()\n",
    "\n",
    "                                            \n",
    "    plt.plot(day_list, global_CSI_list, 'o', ms = 3, color = c)\n",
    "    plt.title(f'Cumulative CSI  ({network_type}, {size})')\n",
    "    plt.xlabel('Days From Collision')\n",
    "    plt.ylabel('Cumulative CSI')\n",
    "    plt.tight_layout()\n",
    "    plt.savefig('/Users/luigigisolfi/' + str(nube) + f'/figures/{network_type}{piece_of_string}' + '/Cumulative_CSI')\n",
    "    plt.show()"
   ]
  },
  {
   "cell_type": "code",
   "execution_count": null,
   "id": "fb240ae9",
   "metadata": {
    "lines_to_next_cell": 1
   },
   "outputs": [],
   "source": [
    "def plotter_FEI(network_type,c):\n",
    "    size = piece_of_string.split('_')[1]\n",
    "    shells, ratios_1 = np.loadtxt('/Users/luigigisolfi/' + str(nube)+ f'/array_shells_ratios_1_{network_type}' + piece_of_string, unpack= True, usecols = (0,1))\n",
    "    shells, ratios_100 = np.loadtxt('/Users/luigigisolfi/' + str(nube)+ f'/array_shells_ratios_100_{network_type}' + piece_of_string, unpack= True, usecols = (0,1))\n",
    "\n",
    "    post_1, pre_1 =  np.loadtxt('/Users/luigigisolfi/' + str(nube)+ f'/{network_type}_CSI_post_pre_001' + piece_of_string, unpack= True, usecols = (0,1))\n",
    "    post_100, pre_100 = np.loadtxt('/Users/luigigisolfi/' + str(nube)+ f'/{network_type}_CSI_post_pre_100' + piece_of_string, unpack= True, usecols = (0,1))\n",
    "\n",
    "    diff_1 = post_1 - pre_1\n",
    "    diff_100 = post_100 - pre_100\n",
    "        \n",
    "    plt.plot(shells, ratios_1, label = 'Day 1', color = c)\n",
    "    plt.plot(shells, ratios_100, label = 'Day 100',linestyle = '--', color = c)\n",
    "    plt.axvline(h_coll,0,linestyle = '-.',color = 'silver',label = 'Collision Altitude')\n",
    "    plt.xlabel('Altitude (km)')\n",
    "    plt.ylabel('Percentage FEI')\n",
    "    plt.legend(loc = 'lower right', prop={'size': 6})\n",
    "    plt.title(f'Percentage FEI 1 and 100 Days After Collision, ({network_type}, {size})')\n",
    "    plt.yscale('log')\n",
    "    plt.savefig('/Users/luigigisolfi/' + str(nube)+ f'/figures/{network_type}{piece_of_string}' + '/Percentage_FEI_T0_T100')\n",
    "    plt.show()\n",
    "\n",
    "    plt.plot(shells, diff_1, label = 'Day 1', color = c)\n",
    "    plt.plot(shells, diff_100, label = 'Day 100', linestyle = '--', color = c)\n",
    "    plt.axvline(h_coll,0,linestyle = '-.',color = 'silver',label = 'Collision Altitude')\n",
    "    plt.xlabel('Altitude (km)')\n",
    "    plt.ylabel('CSI_post - CSI_pre')\n",
    "    plt.legend(loc = 'lower right', prop={'size': 6})\n",
    "    plt.title(f'FEI 1 and 100 Days After Collision ({network_type}, {size})')\n",
    "    plt.yscale('log')\n",
    "    plt.savefig('/Users/luigigisolfi/' + str(nube)+ f'/figures/{network_type}{piece_of_string}' + '/Diff_FEI_T0_T100')\n",
    "    plt.show()\n",
    "        \n",
    "    plt.plot(shells, diff_1*ratios_1, label = 'Day 1', color = c)\n",
    "    plt.plot(shells, diff_100*ratios_100, label = 'Day 100',linestyle = '--', color = c)\n",
    "    plt.axvline(h_coll,0,linestyle = '-.',color = 'silver',label = 'Collision Altitude')\n",
    "    plt.xlabel('Altitude (km)')\n",
    "    plt.ylabel('Perc_FEI * Diff')\n",
    "    plt.legend(loc = 'lower right', prop={'size': 6})\n",
    "    plt.title(f'Modulated Perc FEI ({network_type}, {size})')\n",
    "    plt.yscale('log')\n",
    "    plt.savefig('/Users/luigigisolfi/' + str(nube)+ f'/figures/{network_type}{piece_of_string}' + '/Modulated_FEI_T0_T100')\n",
    "    plt.show()"
   ]
  },
  {
   "cell_type": "code",
   "execution_count": null,
   "id": "f2a3fb95",
   "metadata": {
    "lines_to_next_cell": 1
   },
   "outputs": [],
   "source": [
    "def multi_plotter_CSI(pieces_of_strings, nube, network_type):\n",
    "\n",
    "    colors = ['black', 'grey', 'red']\n",
    "    if len(nube) == 11:\n",
    "        h_coll = round(float(nube[5:8]))\n",
    "    elif len(nube) == 12:\n",
    "        h_coll = round(float(nube[5:9]))\n",
    "\n",
    "    fig1, ax1 = plt.subplots()\n",
    "    fig2, ax2 = plt.subplots()\n",
    "    fig3, ax3 = plt.subplots()\n",
    "\n",
    "    for piece_of_string, c in zip(pieces_of_strings, colors):\n",
    "        print(piece_of_string, c)\n",
    "        day_list, global_CSI_cloud_only_list= np.loadtxt('/Users/luigigisolfi/' + str(nube)+ f'/{network_type}_array_global_CSI_cloud_only' + f'{piece_of_string}', unpack= True, usecols = (0,1))  \n",
    "        global_CSI_list = np.loadtxt('/Users/luigigisolfi/' + str(nube)+ f'/{network_type}_array_global_CSI' + f'{piece_of_string}', unpack= True, usecols = 1)  \n",
    "        cloud_percentage_contribution = 100*global_CSI_cloud_only_list/global_CSI_list\n",
    "        \n",
    "        if piece_of_string[0:4] == '_5cm':\n",
    "            ax1.plot(day_list, global_CSI_cloud_only_list, 'o', markersize = 3, label = f'{piece_of_string[1:4]} ' + f'{piece_of_string[5:]}' , color = c)\n",
    "            ax2.plot(day_list, cloud_percentage_contribution, 'o', markersize = 3, label = f'{piece_of_string[1:4]} ' + f'{piece_of_string[5:]}' , color = c)\n",
    "            ax3.plot(day_list, global_CSI_list, 'o', markersize = 3, label = f'{piece_of_string[1:4]} ' + f'{piece_of_string[5:]}' , color = c)\n",
    "\n",
    "        else: \n",
    "            ax1.plot(day_list, global_CSI_cloud_only_list, 'o', markersize = 3, label = f'{piece_of_string[1:5]} ' + f'{piece_of_string[6:]}' , color = c)\n",
    "            ax2.plot(day_list, cloud_percentage_contribution, 'o', markersize = 3, label = f'{piece_of_string[1:5]} ' + f'{piece_of_string[6:]}' , color = c)\n",
    "            ax3.plot(day_list, global_CSI_list, 'o', markersize = 3, label = f'{piece_of_string[1:5]} ' + f'{piece_of_string[6:]}' , color = c)\n",
    "        \n",
    "    day_list, global_CSI_cloud_only_list_no_weights = np.loadtxt('/Users/luigigisolfi/' + str(nube)+ f'/{network_type}_array_global_CSI_cloud_only_list_no_weights' + f'{piece_of_string}', unpack= True, usecols = (0,1))  \n",
    "    ax1.plot(day_list, global_CSI_cloud_only_list_no_weights, 'o', markersize = 3, label = 'no weights' , color = 'blue')\n",
    "    ax1.set(xlabel = 'Time From Collision (Days)', ylabel = 'Cloud CSI')\n",
    "    ax1.legend(loc = 'upper right', prop={'size': 6})\n",
    "    ax1.set_title(\"Cloud CSI (on different \" + f\"{network_type}\" + \" networks)\", fontsize = 'small')\n",
    "    plt.tight_layout()\n",
    "    fig1.show()\n",
    "    fig1.savefig('/Users/luigigisolfi/' + str(nube)+ f'/figures/{network_type}' + '_Cumulative_Cloud_CSI_comparison',  bbox_inches=\"tight\")\n",
    "\n",
    "    ax2.plot(day_list, global_CSI_cloud_only_list_no_weights, 'o', markersize = 3, label = 'no weights' , color = 'blue')\n",
    "    ax2.set(xlabel = 'Time From Collision (Days)', ylabel = 'Cloud CSI Contribution to Global CSI (%)')\n",
    "    ax2.legend(loc = 'upper right', prop={'size': 6})\n",
    "    ax2.set_title(\"Cloud's Contribution to Global CSI (on different \" + f\"{network_type}\" + \" networks)\", fontsize = 'small')\n",
    "    plt.tight_layout()\n",
    "    fig2.show()\n",
    "    fig2.savefig('/Users/luigigisolfi/' + str(nube)+ f'/figures/{network_type}' + '_Cumulative_Cloud_CSI_comparison_perc',  bbox_inches=\"tight\")\n",
    "\n",
    "    ax3.set(xlabel = 'Time From Collision (Days)', ylabel = 'Global CSI')\n",
    "    ax3.legend(loc = 'upper right', prop={'size': 6})\n",
    "    ax3.set_title(\"Global CSI (on different \" + f\"{network_type}\" + \" networks)\", fontsize = 'small')\n",
    "    plt.tight_layout()\n",
    "    fig3.show()\n",
    "    fig3.savefig('/Users/luigigisolfi/' + str(nube)+ f'/figures/{network_type}' + '_Global_CSI_comparison',  bbox_inches=\"tight\")\n",
    "\n",
    "\n",
    "    if network_type == 'radar':\n",
    "        piece_of_string_0 = '_5cm_1200km'\n",
    "        piece_of_string_1 = '_15cm_1200km'\n",
    "        day_list_0, global_CSI_list_0 = np.loadtxt('/Users/luigigisolfi/' + str(nube)+ f'/{network_type}_array_global_CSI' + f'{piece_of_string_0}', unpack= True, usecols = (0,1))  \n",
    "        day_list_1, global_CSI_list_1 = np.loadtxt('/Users/luigigisolfi/' + str(nube)+ f'/{network_type}_array_global_CSI' + f'{piece_of_string_1}', unpack= True, usecols = (0,1))  \n",
    "        ratio_performance = global_CSI_list_0/global_CSI_list_1\n",
    "        percentage_ratio_performance = (1 - global_CSI_list_0/global_CSI_list_1)*100\n",
    "\n",
    "        print(global_CSI_list_0)\n",
    "        print(global_CSI_list_1)\n",
    "        print(ratio_performance)\n",
    "\n",
    "        fig, axs = plt.subplots(3, 1)\n",
    "        \n",
    "        axs[0].plot(day_list_0, global_CSI_list_1,'o', markersize = 3)\n",
    "        axs[0].set_title(f'Radar 15 cm, Coll. Altitude = {h_coll} km', fontsize = 'small')\n",
    "        axs[1].plot(day_list_0, global_CSI_list_0, 'o', markersize = 3)\n",
    "        axs[1].set_title(f'Radar 5 cm, Coll. Altitude = {h_coll} km',  fontsize = 'small')\n",
    "        axs[2].plot(day_list_0, percentage_ratio_performance, 'o', markersize = 3)\n",
    "        axs[2].set_title('Performance Comparison', fontsize = 'small')\n",
    "\n",
    "\n",
    "        axs[0].set(xlabel='Time From Collision (Days)', ylabel='Global CSI')\n",
    "        axs[1].set(xlabel='Time From Collision (Days)', ylabel='Global CSI')\n",
    "        axs[2].set(xlabel='Time From Collision (Days)', ylabel='Risk Reduction (%)')\n",
    "\n",
    "        # Hide x labels and tick labels for top plots and y ticks for right plots.\n",
    "        for ax in axs.flat:\n",
    "            ax.label_outer()\n",
    "\n",
    "        plt.tight_layout()\n",
    "        plt.ticklabel_format(useOffset=False)\n",
    "        fig.savefig('/Users/luigigisolfi/' + str(nube)+ f'/figures/{network_type}' + '_Performance_Ratios',  bbox_inches=\"tight\")\n",
    "\n",
    "    elif network_type == 'optical':\n",
    "        piece_of_string_0 = '_5cm_2000km'\n",
    "        piece_of_string_1 = '_20cm_2000km'\n",
    "        day_list_0, global_CSI_list_0 = np.loadtxt('/Users/luigigisolfi/' + str(nube)+ f'/{network_type}_array_global_CSI' + f'{piece_of_string_0}', unpack= True, usecols = (0,1))  \n",
    "        day_list_1, global_CSI_list_1 = np.loadtxt('/Users/luigigisolfi/' + str(nube)+ f'/{network_type}_array_global_CSI' + f'{piece_of_string_1}', unpack= True, usecols = (0,1))  \n",
    "        ratio_performance = global_CSI_list_0/global_CSI_list_1\n",
    "        percentage_ratio_performance = (1 - global_CSI_list_0/global_CSI_list_1)*100\n",
    "\n",
    "        print(global_CSI_list_0)\n",
    "        print(global_CSI_list_1)\n",
    "        print(ratio_performance)\n",
    "\n",
    "        fig, axs = plt.subplots(3, 1)\n",
    "        axs[0].plot(day_list_0, global_CSI_list_1,'o', markersize = 3)\n",
    "        axs[0].set_title(f'Optical 20 cm, Coll. Altitude = {h_coll} km', fontsize = 'small')\n",
    "        axs[1].plot(day_list_0, global_CSI_list_0, 'o', markersize = 3)\n",
    "        axs[1].set_title(f'Optical 5 cm, Coll. Altitude = {h_coll} km',  fontsize = 'small')\n",
    "        axs[2].plot(day_list_0, percentage_ratio_performance, 'o', markersize = 3)\n",
    "        axs[2].set_title('Performance Comparison', fontsize = 'small')\n",
    "\n",
    "\n",
    "        axs[0].set(xlabel='Time From Collision (Days)', ylabel='Global CSI')\n",
    "        axs[1].set(xlabel='Time From Collision (Days)', ylabel='Global CSI')\n",
    "        axs[2].set(xlabel='Time From Collision (Days)', ylabel='Risk Reduction (%)')\n",
    "\n",
    "        # Hide x labels and tick labels for top plots and y ticks for right plots.\n",
    "        for ax in axs.flat:\n",
    "            ax.label_outer()\n",
    "\n",
    "        plt.ticklabel_format(useOffset=False)\n",
    "        plt.tight_layout()\n",
    "        fig.savefig('/Users/luigigisolfi/' + str(nube)+ f'/figures/{network_type}' + '_Performance_Ratios',  bbox_inches=\"tight\")"
   ]
  },
  {
   "cell_type": "code",
   "execution_count": null,
   "id": "5b0daf66",
   "metadata": {
    "lines_to_next_cell": 0
   },
   "outputs": [],
   "source": [
    "def modulated_FEI(pieces_of_strings, nube, h_coll, network_type):\n",
    "\n",
    "    for piece_of_string in pieces_of_strings:\n",
    "         size = piece_of_string.split('_')[1]\n",
    "         shells, ratios_1 = np.loadtxt('/Users/luigigisolfi/' + str(nube)+ f'/array_shells_ratios_1_{network_type}' + piece_of_string, unpack= True, usecols = (0,1))\n",
    "         shells, ratios_100 = np.loadtxt('/Users/luigigisolfi/' + str(nube)+ f'/array_shells_ratios_100_{network_type}' + piece_of_string, unpack= True, usecols = (0,1))\n",
    "         CSI_post_100_base, CSI_pre_100_base = np.loadtxt('/Users/luigigisolfi/' + nube + f'/{network_type}_CSI_post_pre_' + '100' + f'{piece_of_string}', unpack = True, usecols = (0,1))\n",
    "         CSI_post_1_base, CSI_pre_1_base = np.loadtxt('/Users/luigigisolfi/' + nube + f'/{network_type}_CSI_post_pre_' + '001' + f'{piece_of_string}', unpack = True, usecols = (0,1))\n",
    "         \n",
    "         plt.plot(shells, ratios_1*(CSI_post_1_base-CSI_pre_1_base), label = 'Day 1', color = 'grey')\n",
    "         plt.plot(shells, ratios_100*(CSI_post_1_base-CSI_pre_1_base), linestyle = '--', label = 'Day 100', color = 'grey')\n",
    "         plt.axvline(h_coll,0,linestyle = '-.',color = 'silver',label = 'Collision Altitude')\n",
    "         plt.title(f'Modulated Perc FEI ({network_type}, {size})')\n",
    "         plt.xlabel('Altitude (km)')\n",
    "         plt.ylabel('Modulated Perc FEI')\n",
    "         plt.legend()\n",
    "         plt.tight_layout\n",
    "         plt.savefig('/Users/luigigisolfi/' + str(nube)+ f'/figures/{network_type}{piece_of_string}' + '/Modulated_FEI_T0_T100', bbox_inches = 'tight')\n",
    "         plt.show()\n",
    "\n",
    "# def multi_plotter_FEI(pieces_of_strings, nube, h_coll, network_type):\n",
    "\n",
    "#     colors = ['black', 'grey', 'red']\n",
    "#     for piece_of_string, c in zip(pieces_of_strings, colors):\n",
    "#         print(piece_of_string, c)\n",
    "#         shells, ratios_1 = np.loadtxt('/Users/luigigisolfi/' + str(nube)+ f'/array_shells_ratios_1_{network_type}' + piece_of_string, unpack= True, usecols = (0,1))\n",
    "#         shells, ratios_100 = np.loadtxt('/Users/luigigisolfi/' + str(nube)+ f'/array_shells_ratios_100_{network_type}' + piece_of_string, unpack= True, usecols = (0,1))\n",
    "#         plt.plot(shells, ratios_1, label = f'{piece_of_string[1:5]} ' + f'{piece_of_string[6:]}' , color = c)\n",
    "#         plt.plot(shells, ratios_100, linestyle = '--', color = c)\n",
    "        \n",
    "#     plt.axvline(h_coll,0,linestyle = '-.',color = 'silver',label = 'Collision Altitude')\n",
    "#     plt.xlabel('Altitude (km)')\n",
    "#     plt.ylabel('Percentage FEI')\n",
    "#     plt.legend(loc = 'lower right', prop={'size': 6})\n",
    "#     plt.title('Percentage FEI 1 and 100 Days After Collision (different ' + f'{network_type}' + ' networks)')\n",
    "#     plt.yscale('log')\n",
    "#     plt.savefig('/Users/luigigisolfi/' + str(nube)+ f'/figures/{network_type}' + '_Percentage_FEI_T0_T100_multi_plot')\n",
    "#     plt.show()\n",
    "\n",
    "    # if network_type == 'optical':\n",
    "    #     CSI_post_100_base, CSI_pre_100_base = np.loadtxt('/Users/luigigisolfi/' + nube + f'/{network_type}_CSI_post_pre_' + '100' + '_20cm_2000km', unpack = True, usecols = (0,1))\n",
    "    #     CSI_post_1_base, CSI_pre_1_base = np.loadtxt('/Users/luigigisolfi/' + 'nube_1800_km' + f'/{network_type}_CSI_post_pre_' + '001' + '_20cm_2000km', unpack = True, usecols = (0,1))\n",
    "    #     days, CSI_cloud_base = np.loadtxt('/Users/luigigisolfi/' + str(nube)+ f'/{network_type}_array_global_CSI_cloud_only' + '_20cm_2000km', unpack= True, usecols = (0,1))\n",
    "    \n",
    "    # elif network_type == 'radar':\n",
    "    #     CSI_post_100_base, CSI_pre_100_base = np.loadtxt('/Users/luigigisolfi/' + nube + f'/{network_type}_CSI_post_pre_' + '100' + '_15cm_1200km', unpack = True, usecols = (0,1))\n",
    "    #     CSI_post_1_base, CSI_pre_1_base = np.loadtxt('/Users/luigigisolfi/' + nube + f'/{network_type}_CSI_post_pre_' + '001' + '_15cm_1200km', unpack = True, usecols = (0,1))\n",
    "    #     days, CSI_cloud_base = np.loadtxt('/Users/luigigisolfi/' + str(nube)+ f'/{network_type}_array_global_CSI_cloud_only' + '_15cm_1200km', unpack= True, usecols = (0,1))\n",
    "    \n",
    "    # pos_100_base = np.where(days == 100)\n",
    "    # pos_1_base = np.where(days == 1)\n",
    "    # CSI_cloud_100_base = CSI_cloud_base[pos_100_base]\n",
    "    # CSI_cloud_1_base = CSI_cloud_base[pos_1_base]\n",
    "    # CSI_parent_pre_100 = CSI_pre_100_base + CSI_cloud_100_base - CSI_post_100_base\n",
    "    # print(CSI_parent_pre_100, ' at 100')\n",
    "    # CSI_parent_pre_1 = CSI_pre_1_base + CSI_cloud_1_base - CSI_post_1_base\n",
    "    # print(CSI_parent_pre_1, ' at 1')\n",
    "\n",
    "    # for piece_of_string, c in zip(pieces_of_strings, colors):\n",
    "    #     days, CSI_cloud = np.loadtxt('/Users/luigigisolfi/' + str(nube)+ f'/{network_type}_array_global_CSI_cloud_only' + piece_of_string, unpack= True, usecols = (0,1))\n",
    "    #     pos_100 = np.where(days == 100)\n",
    "    #     pos_1 = np.where(days == 1)\n",
    "    #     CSI_cloud_100 = CSI_cloud[pos_100]\n",
    "    #     CSI_cloud_1 = CSI_cloud[pos_1]\n",
    "    #     CSI_post_100 = CSI_pre_100_base + CSI_cloud_100 - CSI_parent_pre_100\n",
    "    #     CSI_post_1 = CSI_pre_1_base + CSI_cloud_1 - CSI_parent_pre_1\n",
    "\n",
    "    #     print('CSI parent 100 is ', CSI_parent_pre_100)\n",
    "    #     print('CSI parent 1 is ', CSI_parent_pre_1)\n",
    "    #     print(f'{piece_of_string} has CSI_post_100 as ', CSI_post_100)\n",
    "    #     print(f'{piece_of_string} has CSI_cloud_100 as ', CSI_cloud_100)\n",
    "    #     print(f'{piece_of_string} has CSI_post_1 as ', CSI_post_1)\n",
    "    #     print(f'{piece_of_string} has CSI_cloud_1 as ', CSI_cloud_1)\n",
    "        \n",
    "    #     ratios_100_base = (CSI_post_100 - CSI_pre_100_base)/CSI_pre_100_base\n",
    "    #     ratios_1_base = (CSI_post_1 - CSI_pre_1_base)/CSI_pre_1_base\n",
    "    #     print(piece_of_string, c)\n",
    "    #     plt.plot(shells, ratios_1_base, label = f'{piece_of_string[1:5]} ' + f'{piece_of_string[6:]}' , color = c)\n",
    "    #     plt.plot(shells, ratios_100_base, linestyle = '--', color = c)\n",
    "\n",
    "    # plt.axvline(h_coll,0,linestyle = '-.',color = 'silver',label = 'Collision Altitude')\n",
    "    # plt.xlabel('Altitude (km)')\n",
    "    # plt.ylabel('Percentage FEI')\n",
    "    # plt.legend(loc = 'lower right', prop={'size': 6})\n",
    "    # plt.title('Percentage FEI 1 and 100 Days After Collision (different ' + f'{network_type}' + ' networks)')\n",
    "    # plt.yscale('log')\n",
    "    # plt.savefig('/Users/luigigisolfi/' + str(nube)+ f'/figures/{network_type}' + '_Percentage_FEI_T0_T100_multi_plot_base')\n",
    "    # plt.show()"
   ]
  },
  {
   "cell_type": "markdown",
   "id": "2c2375f0-8d6c-417c-bc08-b8a67e6d8f18",
   "metadata": {},
   "source": [
    "## CUMULATIVE INDEX COMPUTATION AS A BONUS"
   ]
  },
  {
   "cell_type": "code",
   "execution_count": 4,
   "id": "8bcb6c3e",
   "metadata": {},
   "outputs": [
    {
     "name": "stdin",
     "output_type": "stream",
     "text": [
      "Cloud File Name? (e.g. cloud_xxx.fla) nbjn\n",
      "Please, input the elevation of your telescope (degrees):  l,lk\n"
     ]
    },
    {
     "ename": "ValueError",
     "evalue": "could not convert string to float: 'l,lk'",
     "output_type": "error",
     "traceback": [
      "\u001b[0;31m---------------------------------------------------------------------------\u001b[0m",
      "\u001b[0;31mValueError\u001b[0m                                Traceback (most recent call last)",
      "Cell \u001b[0;32mIn[4], line 10\u001b[0m\n\u001b[1;32m      7\u001b[0m \u001b[38;5;28;01melif\u001b[39;00m \u001b[38;5;28mlen\u001b[39m(nube) \u001b[38;5;241m==\u001b[39m \u001b[38;5;241m12\u001b[39m:\n\u001b[1;32m      8\u001b[0m     h_coll \u001b[38;5;241m=\u001b[39m \u001b[38;5;28mfloat\u001b[39m(nube[\u001b[38;5;241m5\u001b[39m:\u001b[38;5;241m9\u001b[39m])\n\u001b[0;32m---> 10\u001b[0m elevation \u001b[38;5;241m=\u001b[39m \u001b[38;5;28;43mfloat\u001b[39;49m\u001b[43m(\u001b[49m\u001b[38;5;28;43minput\u001b[39;49m\u001b[43m(\u001b[49m\u001b[38;5;124;43m'\u001b[39;49m\u001b[38;5;124;43mPlease, input the elevation of your telescope (degrees): \u001b[39;49m\u001b[38;5;124;43m'\u001b[39;49m\u001b[43m)\u001b[49m\u001b[43m)\u001b[49m\n\u001b[1;32m     11\u001b[0m elevation \u001b[38;5;241m=\u001b[39m elevation\u001b[38;5;241m*\u001b[39mnp\u001b[38;5;241m.\u001b[39mpi\u001b[38;5;241m/\u001b[39m\u001b[38;5;241m180\u001b[39m \u001b[38;5;66;03m#deg to rad\u001b[39;00m\n\u001b[1;32m     13\u001b[0m \u001b[38;5;28;01mif\u001b[39;00m h_coll \u001b[38;5;241m>\u001b[39m\u001b[38;5;241m=\u001b[39m \u001b[38;5;241m1200\u001b[39m: \n",
      "\u001b[0;31mValueError\u001b[0m: could not convert string to float: 'l,lk'"
     ]
    }
   ],
   "source": [
    "if __name__ == '__main__':\n",
    "        \n",
    "    nube = input('Cloud File Name? (e.g. cloud_xxx.fla)')\n",
    "    \n",
    "    if len(nube) == 11:\n",
    "        h_coll = float(nube[5:8])\n",
    "    elif len(nube) == 12:\n",
    "        h_coll = float(nube[5:9])\n",
    "    \n",
    "    elevation = float(input('Please, input the elevation of your telescope (degrees): '))\n",
    "    elevation = elevation*np.pi/180 #deg to rad\n",
    "    \n",
    "    if h_coll >= 1200: \n",
    "        network_type = 'optical'\n",
    "    elif h_coll<1200:\n",
    "        network_type = 'radar'\n",
    "\n",
    "    h_max = float(input('Please, input the maximum observable height (Km): '))\n",
    "    s_min = float(input('Please, input the minimum observable size (cm) at ' + str(h_max) + ': '))\n",
    "\n",
    "    background_pop = input('Please, insert the background population file path: \\n')\n",
    "    piece_of_string = '_' + str(round(s_min)) + 'cm_' + str(round(h_max)) + 'km'\n",
    "    size = piece_of_string.split('_')[1]\n",
    "    print('size... :',size)\n",
    "\n",
    "    if network_type == 'radar':\n",
    "\n",
    "        if piece_of_string.split('_')[1] == '5cm':\n",
    "            c = 'red'\n",
    "            print(f'{c}')\n",
    "        elif piece_of_string.split('_')[1] == '10cm':\n",
    "            c = 'grey'\n",
    "            print(f'{c}')\n",
    "        elif piece_of_string.split('_')[1] == '15cm':\n",
    "            c = 'black'\n",
    "            print(f'{c}')\n",
    "        radar_main_background(nube, h_coll, s_min,h_max, piece_of_string, background_pop)\n",
    "        day_list, global_CSI_cloud_only_list, global_CSI_cloud_only_list_no_weights, global_CSI_list, global_CSI_list_no_weights, ratios_list = radar_main(nube, h_coll, s_min,h_max, piece_of_string)\n",
    "\n",
    "        CUMULATIVE_INDEX = np.sum(global_CSI_cloud_only_list)\n",
    "        if os.path.isdir(f'/Users/luigigisolfi/{str(nube)}/CUMULATIVE_INDEX_RADAR/'):\n",
    "            print('CUMULATIVE_INDEX directory already exists.\\n')\n",
    "            \n",
    "        else:\n",
    "            os.mkdir(f'/Users/luigigisolfi/{str(nube)}/CUMULATIVE_INDEX_RADAR/')\n",
    "            print('Created CUMULATIVE_INDEX directory.\\n')\n",
    "        with open(f'/Users/luigigisolfi/{str(nube)}/CUMULATIVE_INDEX_RADAR/cumulative_index_{piece_of_string}.txt', 'w') as cumulative_index:\n",
    "                cumulative_index.write(f'CUMULATIVE INDEX: {CUMULATIVE_INDEX}')\n",
    "                cumulative_index.close()\n",
    "            \n",
    "\n",
    "        plotter_FEI(network_type, c) \n",
    "        plotter_CSI(network_type, c)     \n",
    "    elif network_type == 'optical':\n",
    "\n",
    "        if piece_of_string.split('_')[1] == '5cm':\n",
    "            c = 'red'\n",
    "            print(f'{c}')\n",
    "        elif piece_of_string.split('_')[1] == '15cm':\n",
    "            c = 'grey'\n",
    "            print(f'{c}')\n",
    "        elif piece_of_string.split('_')[1] == '20cm':\n",
    "            c = 'black'\n",
    "            print(f'{c}')\n",
    "        optical_main_background(nube, h_coll, s_min,h_max, piece_of_string,background_pop)\n",
    "        day_list, global_CSI_cloud_only_list, global_CSI_cloud_only_list_no_weights, global_CSI_list, global_CSI_list_no_weights, ratios_list = optical_main(nube, h_coll, s_min,h_max, piece_of_string)\n",
    "\n",
    "        CUMULATIVE_INDEX = np.sum(global_CSI_cloud_only_list)\n",
    "        if os.path.isdir(f'/Users/luigigisolfi/{str(nube)}/CUMULATIVE_INDEX_OPTICAL/'):\n",
    "            print('CUMULATIVE_INDEX directory already exists.\\n')\n",
    "            \n",
    "        else:\n",
    "            os.mkdir(f'/Users/luigigisolfi/{str(nube)}/CUMULATIVE_INDEX_OPTICAL/')\n",
    "            print('Created CUMULATIVE_INDEX directory.\\n')\n",
    "        with open(f'/Users/luigigisolfi/{str(nube)}/CUMULATIVE_INDEX_OPTICAL/cumulative_index_{piece_of_string}.txt', 'w') as cumulative_index:\n",
    "                cumulative_index.write(f'CUMULATIVE INDEX: {CUMULATIVE_INDEX}')\n",
    "                cumulative_index.close()\n",
    "            \n",
    "\n",
    "        plotter_FEI(network_type, c)  \n",
    "        plotter_CSI(network_type, c)\n",
    "    else:\n",
    "        print('Not a valid network type. Aborting...')\n",
    "        exit()"
   ]
  },
  {
   "cell_type": "code",
   "execution_count": null,
   "id": "99baba54-5ce3-4def-8772-e48a4b194433",
   "metadata": {},
   "outputs": [],
   "source": [
    "pip install -U kaleido"
   ]
  },
  {
   "cell_type": "code",
   "execution_count": 43,
   "id": "a940bd8d-705b-4289-9550-814c6caad667",
   "metadata": {},
   "outputs": [
    {
     "name": "stdout",
     "output_type": "stream",
     "text": [
      "cumulative_index__20cm_1200km.txt\n",
      "20.0\n",
      "cumulative_index__10cm_1200km.txt\n",
      "10.0\n",
      "cumulative_index__5cm_1200km.txt\n",
      "5.0\n",
      "cumulative_index__15cm_1200km.txt\n",
      "15.0\n",
      "cumulative_index__25cm_1200km.txt\n",
      "25.0\n",
      "[array(0.00448663), array(0.00258085), array(0.00146763), array(0.00408112), array(0.00475614)]\n"
     ]
    },
    {
     "data": {
      "image/png": "[encoded data removed]",
      "text/plain": [
       "<Figure size 1000x700 with 1 Axes>"
      ]
     },
     "metadata": {},
     "output_type": "display_data"
    }
   ],
   "source": [
    "csi_cumulative_list = []\n",
    "capability_list = []\n",
    "nube = 'nube_450_km'\n",
    "for file in os.listdir(f'/Users/luigigisolfi/{str(nube)}/CUMULATIVE_INDEX_RADAR/'):\n",
    "    if file == '.ipynb_checkpoints' or '30' in file:\n",
    "        continue\n",
    "    print(file)\n",
    "    if len(file.split('_')[3]) == 4:\n",
    "        capability = float(file.split('_')[3][:2])\n",
    "        print(capability)\n",
    "    else:\n",
    "        capability = float(file.split('_')[3][:1])\n",
    "        print(capability)        \n",
    "    csi_cumulative = np.loadtxt(f'/Users/luigigisolfi/{str(nube)}/CUMULATIVE_INDEX_RADAR/{file}', unpack = True, usecols = 2)\n",
    "    csi_cumulative_list.append(csi_cumulative)\n",
    "    capability_list.append(capability)\n",
    "\n",
    "print(csi_cumulative_list)\n",
    "plt.axhline(1, color = 'r', linestyle = '--', alpha = 0.5)\n",
    "plt.axvline(15, color = 'r', linestyle = '--', alpha = 0.5)\n",
    "plt.scatter(np.sort(capability_list), np.sort(csi_cumulative_list)/np.sort(csi_cumulative_list)[2])\n",
    "plt.title('Cumulative Cloud CSI Over 100 Days (Normalized)')\n",
    "plt.xlabel('Minimum Detectable Size at 1200 km (cm)')\n",
    "plt.ylabel('Cumulative Cloud CSI')\n",
    "plt.savefig(f'/Users/luigigisolfi/{str(nube)}/figures/Cumulative_CSI_Radar_{str(nube)}')"
   ]
  },
  {
   "cell_type": "code",
   "execution_count": 44,
   "id": "f8171a62-9438-4a25-99bb-9b3d60358687",
   "metadata": {},
   "outputs": [
    {
     "name": "stdout",
     "output_type": "stream",
     "text": [
      "[3.05706304 1.75851808 1.         2.78076444 3.24070073]\n"
     ]
    },
    {
     "data": {
      "application/vnd.plotly.v1+json": {
       "config": {
        "plotlyServerURL": "https://plot.ly"
       },
       "data": [
        {
         "coloraxis": "coloraxis",
         "hovertemplate": "x: %{x}<br>y: %{y}<br>color: %{z}<extra></extra>",
         "name": "0",
         "type": "heatmap",
         "xaxis": "x",
         "yaxis": "y",
         "z": [
          [
           0.35961334423197017,
           0.632386566442437,
           1,
           1.0993606626635655,
           1.165399226675331
          ]
         ]
        }
       ],
       "layout": {
        "autosize": true,
        "coloraxis": {
         "cmid": 1,
         "colorscale": [
          [
           0,
           "blue"
          ],
          [
           0.5,
           "white"
          ],
          [
           1,
           "red"
          ]
         ]
        },
        "margin": {
         "t": 60
        },
        "template": {
         "data": {
          "bar": [
           {
            "error_x": {
             "color": "#2a3f5f"
            },
            "error_y": {
             "color": "#2a3f5f"
            },
            "marker": {
             "line": {
              "color": "#E5ECF6",
              "width": 0.5
             },
             "pattern": {
              "fillmode": "overlay",
              "size": 10,
              "solidity": 0.2
             }
            },
            "type": "bar"
           }
          ],
          "barpolar": [
           {
            "marker": {
             "line": {
              "color": "#E5ECF6",
              "width": 0.5
             },
             "pattern": {
              "fillmode": "overlay",
              "size": 10,
              "solidity": 0.2
             }
            },
            "type": "barpolar"
           }
          ],
          "carpet": [
           {
            "aaxis": {
             "endlinecolor": "#2a3f5f",
             "gridcolor": "white",
             "linecolor": "white",
             "minorgridcolor": "white",
             "startlinecolor": "#2a3f5f"
            },
            "baxis": {
             "endlinecolor": "#2a3f5f",
             "gridcolor": "white",
             "linecolor": "white",
             "minorgridcolor": "white",
             "startlinecolor": "#2a3f5f"
            },
            "type": "carpet"
           }
          ],
          "choropleth": [
           {
            "colorbar": {
             "outlinewidth": 0,
             "ticks": ""
            },
            "type": "choropleth"
           }
          ],
          "contour": [
           {
            "colorbar": {
             "outlinewidth": 0,
             "ticks": ""
            },
            "colorscale": [
             [
              0,
              "#0d0887"
             ],
             [
              0.1111111111111111,
              "#46039f"
             ],
             [
              0.2222222222222222,
              "#7201a8"
             ],
             [
              0.3333333333333333,
              "#9c179e"
             ],
             [
              0.4444444444444444,
              "#bd3786"
             ],
             [
              0.5555555555555556,
              "#d8576b"
             ],
             [
              0.6666666666666666,
              "#ed7953"
             ],
             [
              0.7777777777777778,
              "#fb9f3a"
             ],
             [
              0.8888888888888888,
              "#fdca26"
             ],
             [
              1,
              "#f0f921"
             ]
            ],
            "type": "contour"
           }
          ],
          "contourcarpet": [
           {
            "colorbar": {
             "outlinewidth": 0,
             "ticks": ""
            },
            "type": "contourcarpet"
           }
          ],
          "heatmap": [
           {
            "colorbar": {
             "outlinewidth": 0,
             "ticks": ""
            },
            "colorscale": [
             [
              0,
              "#0d0887"
             ],
             [
              0.1111111111111111,
              "#46039f"
             ],
             [
              0.2222222222222222,
              "#7201a8"
             ],
             [
              0.3333333333333333,
              "#9c179e"
             ],
             [
              0.4444444444444444,
              "#bd3786"
             ],
             [
              0.5555555555555556,
              "#d8576b"
             ],
             [
              0.6666666666666666,
              "#ed7953"
             ],
             [
              0.7777777777777778,
              "#fb9f3a"
             ],
             [
              0.8888888888888888,
              "#fdca26"
             ],
             [
              1,
              "#f0f921"
             ]
            ],
            "type": "heatmap"
           }
          ],
          "heatmapgl": [
           {
            "colorbar": {
             "outlinewidth": 0,
             "ticks": ""
            },
            "colorscale": [
             [
              0,
              "#0d0887"
             ],
             [
              0.1111111111111111,
              "#46039f"
             ],
             [
              0.2222222222222222,
              "#7201a8"
             ],
             [
              0.3333333333333333,
              "#9c179e"
             ],
             [
              0.4444444444444444,
              "#bd3786"
             ],
             [
              0.5555555555555556,
              "#d8576b"
             ],
             [
              0.6666666666666666,
              "#ed7953"
             ],
             [
              0.7777777777777778,
              "#fb9f3a"
             ],
             [
              0.8888888888888888,
              "#fdca26"
             ],
             [
              1,
              "#f0f921"
             ]
            ],
            "type": "heatmapgl"
           }
          ],
          "histogram": [
           {
            "marker": {
             "pattern": {
              "fillmode": "overlay",
              "size": 10,
              "solidity": 0.2
             }
            },
            "type": "histogram"
           }
          ],
          "histogram2d": [
           {
            "colorbar": {
             "outlinewidth": 0,
             "ticks": ""
            },
            "colorscale": [
             [
              0,
              "#0d0887"
             ],
             [
              0.1111111111111111,
              "#46039f"
             ],
             [
              0.2222222222222222,
              "#7201a8"
             ],
             [
              0.3333333333333333,
              "#9c179e"
             ],
             [
              0.4444444444444444,
              "#bd3786"
             ],
             [
              0.5555555555555556,
              "#d8576b"
             ],
             [
              0.6666666666666666,
              "#ed7953"
             ],
             [
              0.7777777777777778,
              "#fb9f3a"
             ],
             [
              0.8888888888888888,
              "#fdca26"
             ],
             [
              1,
              "#f0f921"
             ]
            ],
            "type": "histogram2d"
           }
          ],
          "histogram2dcontour": [
           {
            "colorbar": {
             "outlinewidth": 0,
             "ticks": ""
            },
            "colorscale": [
             [
              0,
              "#0d0887"
             ],
             [
              0.1111111111111111,
              "#46039f"
             ],
             [
              0.2222222222222222,
              "#7201a8"
             ],
             [
              0.3333333333333333,
              "#9c179e"
             ],
             [
              0.4444444444444444,
              "#bd3786"
             ],
             [
              0.5555555555555556,
              "#d8576b"
             ],
             [
              0.6666666666666666,
              "#ed7953"
             ],
             [
              0.7777777777777778,
              "#fb9f3a"
             ],
             [
              0.8888888888888888,
              "#fdca26"
             ],
             [
              1,
              "#f0f921"
             ]
            ],
            "type": "histogram2dcontour"
           }
          ],
          "mesh3d": [
           {
            "colorbar": {
             "outlinewidth": 0,
             "ticks": ""
            },
            "type": "mesh3d"
           }
          ],
          "parcoords": [
           {
            "line": {
             "colorbar": {
              "outlinewidth": 0,
              "ticks": ""
             }
            },
            "type": "parcoords"
           }
          ],
          "pie": [
           {
            "automargin": true,
            "type": "pie"
           }
          ],
          "scatter": [
           {
            "fillpattern": {
             "fillmode": "overlay",
             "size": 10,
             "solidity": 0.2
            },
            "type": "scatter"
           }
          ],
          "scatter3d": [
           {
            "line": {
             "colorbar": {
              "outlinewidth": 0,
              "ticks": ""
             }
            },
            "marker": {
             "colorbar": {
              "outlinewidth": 0,
              "ticks": ""
             }
            },
            "type": "scatter3d"
           }
          ],
          "scattercarpet": [
           {
            "marker": {
             "colorbar": {
              "outlinewidth": 0,
              "ticks": ""
             }
            },
            "type": "scattercarpet"
           }
          ],
          "scattergeo": [
           {
            "marker": {
             "colorbar": {
              "outlinewidth": 0,
              "ticks": ""
             }
            },
            "type": "scattergeo"
           }
          ],
          "scattergl": [
           {
            "marker": {
             "colorbar": {
              "outlinewidth": 0,
              "ticks": ""
             }
            },
            "type": "scattergl"
           }
          ],
          "scattermapbox": [
           {
            "marker": {
             "colorbar": {
              "outlinewidth": 0,
              "ticks": ""
             }
            },
            "type": "scattermapbox"
           }
          ],
          "scatterpolar": [
           {
            "marker": {
             "colorbar": {
              "outlinewidth": 0,
              "ticks": ""
             }
            },
            "type": "scatterpolar"
           }
          ],
          "scatterpolargl": [
           {
            "marker": {
             "colorbar": {
              "outlinewidth": 0,
              "ticks": ""
             }
            },
            "type": "scatterpolargl"
           }
          ],
          "scatterternary": [
           {
            "marker": {
             "colorbar": {
              "outlinewidth": 0,
              "ticks": ""
             }
            },
            "type": "scatterternary"
           }
          ],
          "surface": [
           {
            "colorbar": {
             "outlinewidth": 0,
             "ticks": ""
            },
            "colorscale": [
             [
              0,
              "#0d0887"
             ],
             [
              0.1111111111111111,
              "#46039f"
             ],
             [
              0.2222222222222222,
              "#7201a8"
             ],
             [
              0.3333333333333333,
              "#9c179e"
             ],
             [
              0.4444444444444444,
              "#bd3786"
             ],
             [
              0.5555555555555556,
              "#d8576b"
             ],
             [
              0.6666666666666666,
              "#ed7953"
             ],
             [
              0.7777777777777778,
              "#fb9f3a"
             ],
             [
              0.8888888888888888,
              "#fdca26"
             ],
             [
              1,
              "#f0f921"
             ]
            ],
            "type": "surface"
           }
          ],
          "table": [
           {
            "cells": {
             "fill": {
              "color": "#EBF0F8"
             },
             "line": {
              "color": "white"
             }
            },
            "header": {
             "fill": {
              "color": "#C8D4E3"
             },
             "line": {
              "color": "white"
             }
            },
            "type": "table"
           }
          ]
         },
         "layout": {
          "annotationdefaults": {
           "arrowcolor": "#2a3f5f",
           "arrowhead": 0,
           "arrowwidth": 1
          },
          "autotypenumbers": "strict",
          "coloraxis": {
           "colorbar": {
            "outlinewidth": 0,
            "ticks": ""
           }
          },
          "colorscale": {
           "diverging": [
            [
             0,
             "#8e0152"
            ],
            [
             0.1,
             "#c51b7d"
            ],
            [
             0.2,
             "#de77ae"
            ],
            [
             0.3,
             "#f1b6da"
            ],
            [
             0.4,
             "#fde0ef"
            ],
            [
             0.5,
             "#f7f7f7"
            ],
            [
             0.6,
             "#e6f5d0"
            ],
            [
             0.7,
             "#b8e186"
            ],
            [
             0.8,
             "#7fbc41"
            ],
            [
             0.9,
             "#4d9221"
            ],
            [
             1,
             "#276419"
            ]
           ],
           "sequential": [
            [
             0,
             "#0d0887"
            ],
            [
             0.1111111111111111,
             "#46039f"
            ],
            [
             0.2222222222222222,
             "#7201a8"
            ],
            [
             0.3333333333333333,
             "#9c179e"
            ],
            [
             0.4444444444444444,
             "#bd3786"
            ],
            [
             0.5555555555555556,
             "#d8576b"
            ],
            [
             0.6666666666666666,
             "#ed7953"
            ],
            [
             0.7777777777777778,
             "#fb9f3a"
            ],
            [
             0.8888888888888888,
             "#fdca26"
            ],
            [
             1,
             "#f0f921"
            ]
           ],
           "sequentialminus": [
            [
             0,
             "#0d0887"
            ],
            [
             0.1111111111111111,
             "#46039f"
            ],
            [
             0.2222222222222222,
             "#7201a8"
            ],
            [
             0.3333333333333333,
             "#9c179e"
            ],
            [
             0.4444444444444444,
             "#bd3786"
            ],
            [
             0.5555555555555556,
             "#d8576b"
            ],
            [
             0.6666666666666666,
             "#ed7953"
            ],
            [
             0.7777777777777778,
             "#fb9f3a"
            ],
            [
             0.8888888888888888,
             "#fdca26"
            ],
            [
             1,
             "#f0f921"
            ]
           ]
          },
          "colorway": [
           "#636efa",
           "#EF553B",
           "#00cc96",
           "#ab63fa",
           "#FFA15A",
           "#19d3f3",
           "#FF6692",
           "#B6E880",
           "#FF97FF",
           "#FECB52"
          ],
          "font": {
           "color": "#2a3f5f"
          },
          "geo": {
           "bgcolor": "white",
           "lakecolor": "white",
           "landcolor": "#E5ECF6",
           "showlakes": true,
           "showland": true,
           "subunitcolor": "white"
          },
          "hoverlabel": {
           "align": "left"
          },
          "hovermode": "closest",
          "mapbox": {
           "style": "light"
          },
          "paper_bgcolor": "white",
          "plot_bgcolor": "#E5ECF6",
          "polar": {
           "angularaxis": {
            "gridcolor": "white",
            "linecolor": "white",
            "ticks": ""
           },
           "bgcolor": "#E5ECF6",
           "radialaxis": {
            "gridcolor": "white",
            "linecolor": "white",
            "ticks": ""
           }
          },
          "scene": {
           "xaxis": {
            "backgroundcolor": "#E5ECF6",
            "gridcolor": "white",
            "gridwidth": 2,
            "linecolor": "white",
            "showbackground": true,
            "ticks": "",
            "zerolinecolor": "white"
           },
           "yaxis": {
            "backgroundcolor": "#E5ECF6",
            "gridcolor": "white",
            "gridwidth": 2,
            "linecolor": "white",
            "showbackground": true,
            "ticks": "",
            "zerolinecolor": "white"
           },
           "zaxis": {
            "backgroundcolor": "#E5ECF6",
            "gridcolor": "white",
            "gridwidth": 2,
            "linecolor": "white",
            "showbackground": true,
            "ticks": "",
            "zerolinecolor": "white"
           }
          },
          "shapedefaults": {
           "line": {
            "color": "#2a3f5f"
           }
          },
          "ternary": {
           "aaxis": {
            "gridcolor": "white",
            "linecolor": "white",
            "ticks": ""
           },
           "baxis": {
            "gridcolor": "white",
            "linecolor": "white",
            "ticks": ""
           },
           "bgcolor": "#E5ECF6",
           "caxis": {
            "gridcolor": "white",
            "linecolor": "white",
            "ticks": ""
           }
          },
          "title": {
           "x": 0.05
          },
          "xaxis": {
           "automargin": true,
           "gridcolor": "white",
           "linecolor": "white",
           "ticks": "",
           "title": {
            "standoff": 15
           },
           "zerolinecolor": "white",
           "zerolinewidth": 2
          },
          "yaxis": {
           "automargin": true,
           "gridcolor": "white",
           "linecolor": "white",
           "ticks": "",
           "title": {
            "standoff": 15
           },
           "zerolinecolor": "white",
           "zerolinewidth": 2
          }
         }
        },
        "title": {
         "text": "Cumulative Cloud CSI over 100 Days (Normalized)",
         "x": 0.5,
         "xanchor": "center",
         "y": 0.9,
         "yanchor": "top"
        },
        "xaxis": {
         "anchor": "y",
         "autorange": true,
         "constrain": "domain",
         "domain": [
          0,
          1
         ],
         "range": [
          -0.5,
          4.5
         ],
         "scaleanchor": "y",
         "showticklabels": true,
         "tickangle": 30,
         "tickfont": {
          "color": "black",
          "size": 14
         },
         "ticktext": [
          "5 cm",
          "10 cm",
          "15 cm",
          "20 cm",
          "25 cm"
         ],
         "tickvals": [
          0,
          1,
          2,
          3,
          4,
          5
         ]
        },
        "yaxis": {
         "anchor": "x",
         "autorange": true,
         "constrain": "domain",
         "domain": [
          0.08045454545454545,
          0.9195454545454546
         ],
         "range": [
          0.5,
          -0.5
         ],
         "showticklabels": false
        }
       }
      },
      "image/png": "[encoded data removed]",
      "text/html": [
       "<div>                            <div id=\"68ac911f-03e8-49c5-bbab-d8da756e29a5\" class=\"plotly-graph-div\" style=\"height:525px; width:100%;\"></div>            <script type=\"text/javascript\">                require([\"plotly\"], function(Plotly) {                    window.PLOTLYENV=window.PLOTLYENV || {};                                    if (document.getElementById(\"68ac911f-03e8-49c5-bbab-d8da756e29a5\")) {                    Plotly.newPlot(                        \"68ac911f-03e8-49c5-bbab-d8da756e29a5\",                        [{\"coloraxis\":\"coloraxis\",\"name\":\"0\",\"z\":[[0.35961334423197017,0.632386566442437,1.0,1.0993606626635655,1.165399226675331]],\"type\":\"heatmap\",\"xaxis\":\"x\",\"yaxis\":\"y\",\"hovertemplate\":\"x: %{x}\\u003cbr\\u003ey: %{y}\\u003cbr\\u003ecolor: %{z}\\u003cextra\\u003e\\u003c\\u002fextra\\u003e\"}],                        {\"template\":{\"data\":{\"histogram2dcontour\":[{\"type\":\"histogram2dcontour\",\"colorbar\":{\"outlinewidth\":0,\"ticks\":\"\"},\"colorscale\":[[0.0,\"#0d0887\"],[0.1111111111111111,\"#46039f\"],[0.2222222222222222,\"#7201a8\"],[0.3333333333333333,\"#9c179e\"],[0.4444444444444444,\"#bd3786\"],[0.5555555555555556,\"#d8576b\"],[0.6666666666666666,\"#ed7953\"],[0.7777777777777778,\"#fb9f3a\"],[0.8888888888888888,\"#fdca26\"],[1.0,\"#f0f921\"]]}],\"choropleth\":[{\"type\":\"choropleth\",\"colorbar\":{\"outlinewidth\":0,\"ticks\":\"\"}}],\"histogram2d\":[{\"type\":\"histogram2d\",\"colorbar\":{\"outlinewidth\":0,\"ticks\":\"\"},\"colorscale\":[[0.0,\"#0d0887\"],[0.1111111111111111,\"#46039f\"],[0.2222222222222222,\"#7201a8\"],[0.3333333333333333,\"#9c179e\"],[0.4444444444444444,\"#bd3786\"],[0.5555555555555556,\"#d8576b\"],[0.6666666666666666,\"#ed7953\"],[0.7777777777777778,\"#fb9f3a\"],[0.8888888888888888,\"#fdca26\"],[1.0,\"#f0f921\"]]}],\"heatmap\":[{\"type\":\"heatmap\",\"colorbar\":{\"outlinewidth\":0,\"ticks\":\"\"},\"colorscale\":[[0.0,\"#0d0887\"],[0.1111111111111111,\"#46039f\"],[0.2222222222222222,\"#7201a8\"],[0.3333333333333333,\"#9c179e\"],[0.4444444444444444,\"#bd3786\"],[0.5555555555555556,\"#d8576b\"],[0.6666666666666666,\"#ed7953\"],[0.7777777777777778,\"#fb9f3a\"],[0.8888888888888888,\"#fdca26\"],[1.0,\"#f0f921\"]]}],\"heatmapgl\":[{\"type\":\"heatmapgl\",\"colorbar\":{\"outlinewidth\":0,\"ticks\":\"\"},\"colorscale\":[[0.0,\"#0d0887\"],[0.1111111111111111,\"#46039f\"],[0.2222222222222222,\"#7201a8\"],[0.3333333333333333,\"#9c179e\"],[0.4444444444444444,\"#bd3786\"],[0.5555555555555556,\"#d8576b\"],[0.6666666666666666,\"#ed7953\"],[0.7777777777777778,\"#fb9f3a\"],[0.8888888888888888,\"#fdca26\"],[1.0,\"#f0f921\"]]}],\"contourcarpet\":[{\"type\":\"contourcarpet\",\"colorbar\":{\"outlinewidth\":0,\"ticks\":\"\"}}],\"contour\":[{\"type\":\"contour\",\"colorbar\":{\"outlinewidth\":0,\"ticks\":\"\"},\"colorscale\":[[0.0,\"#0d0887\"],[0.1111111111111111,\"#46039f\"],[0.2222222222222222,\"#7201a8\"],[0.3333333333333333,\"#9c179e\"],[0.4444444444444444,\"#bd3786\"],[0.5555555555555556,\"#d8576b\"],[0.6666666666666666,\"#ed7953\"],[0.7777777777777778,\"#fb9f3a\"],[0.8888888888888888,\"#fdca26\"],[1.0,\"#f0f921\"]]}],\"surface\":[{\"type\":\"surface\",\"colorbar\":{\"outlinewidth\":0,\"ticks\":\"\"},\"colorscale\":[[0.0,\"#0d0887\"],[0.1111111111111111,\"#46039f\"],[0.2222222222222222,\"#7201a8\"],[0.3333333333333333,\"#9c179e\"],[0.4444444444444444,\"#bd3786\"],[0.5555555555555556,\"#d8576b\"],[0.6666666666666666,\"#ed7953\"],[0.7777777777777778,\"#fb9f3a\"],[0.8888888888888888,\"#fdca26\"],[1.0,\"#f0f921\"]]}],\"mesh3d\":[{\"type\":\"mesh3d\",\"colorbar\":{\"outlinewidth\":0,\"ticks\":\"\"}}],\"scatter\":[{\"fillpattern\":{\"fillmode\":\"overlay\",\"size\":10,\"solidity\":0.2},\"type\":\"scatter\"}],\"parcoords\":[{\"type\":\"parcoords\",\"line\":{\"colorbar\":{\"outlinewidth\":0,\"ticks\":\"\"}}}],\"scatterpolargl\":[{\"type\":\"scatterpolargl\",\"marker\":{\"colorbar\":{\"outlinewidth\":0,\"ticks\":\"\"}}}],\"bar\":[{\"error_x\":{\"color\":\"#2a3f5f\"},\"error_y\":{\"color\":\"#2a3f5f\"},\"marker\":{\"line\":{\"color\":\"#E5ECF6\",\"width\":0.5},\"pattern\":{\"fillmode\":\"overlay\",\"size\":10,\"solidity\":0.2}},\"type\":\"bar\"}],\"scattergeo\":[{\"type\":\"scattergeo\",\"marker\":{\"colorbar\":{\"outlinewidth\":0,\"ticks\":\"\"}}}],\"scatterpolar\":[{\"type\":\"scatterpolar\",\"marker\":{\"colorbar\":{\"outlinewidth\":0,\"ticks\":\"\"}}}],\"histogram\":[{\"marker\":{\"pattern\":{\"fillmode\":\"overlay\",\"size\":10,\"solidity\":0.2}},\"type\":\"histogram\"}],\"scattergl\":[{\"type\":\"scattergl\",\"marker\":{\"colorbar\":{\"outlinewidth\":0,\"ticks\":\"\"}}}],\"scatter3d\":[{\"type\":\"scatter3d\",\"line\":{\"colorbar\":{\"outlinewidth\":0,\"ticks\":\"\"}},\"marker\":{\"colorbar\":{\"outlinewidth\":0,\"ticks\":\"\"}}}],\"scattermapbox\":[{\"type\":\"scattermapbox\",\"marker\":{\"colorbar\":{\"outlinewidth\":0,\"ticks\":\"\"}}}],\"scatterternary\":[{\"type\":\"scatterternary\",\"marker\":{\"colorbar\":{\"outlinewidth\":0,\"ticks\":\"\"}}}],\"scattercarpet\":[{\"type\":\"scattercarpet\",\"marker\":{\"colorbar\":{\"outlinewidth\":0,\"ticks\":\"\"}}}],\"carpet\":[{\"aaxis\":{\"endlinecolor\":\"#2a3f5f\",\"gridcolor\":\"white\",\"linecolor\":\"white\",\"minorgridcolor\":\"white\",\"startlinecolor\":\"#2a3f5f\"},\"baxis\":{\"endlinecolor\":\"#2a3f5f\",\"gridcolor\":\"white\",\"linecolor\":\"white\",\"minorgridcolor\":\"white\",\"startlinecolor\":\"#2a3f5f\"},\"type\":\"carpet\"}],\"table\":[{\"cells\":{\"fill\":{\"color\":\"#EBF0F8\"},\"line\":{\"color\":\"white\"}},\"header\":{\"fill\":{\"color\":\"#C8D4E3\"},\"line\":{\"color\":\"white\"}},\"type\":\"table\"}],\"barpolar\":[{\"marker\":{\"line\":{\"color\":\"#E5ECF6\",\"width\":0.5},\"pattern\":{\"fillmode\":\"overlay\",\"size\":10,\"solidity\":0.2}},\"type\":\"barpolar\"}],\"pie\":[{\"automargin\":true,\"type\":\"pie\"}]},\"layout\":{\"autotypenumbers\":\"strict\",\"colorway\":[\"#636efa\",\"#EF553B\",\"#00cc96\",\"#ab63fa\",\"#FFA15A\",\"#19d3f3\",\"#FF6692\",\"#B6E880\",\"#FF97FF\",\"#FECB52\"],\"font\":{\"color\":\"#2a3f5f\"},\"hovermode\":\"closest\",\"hoverlabel\":{\"align\":\"left\"},\"paper_bgcolor\":\"white\",\"plot_bgcolor\":\"#E5ECF6\",\"polar\":{\"bgcolor\":\"#E5ECF6\",\"angularaxis\":{\"gridcolor\":\"white\",\"linecolor\":\"white\",\"ticks\":\"\"},\"radialaxis\":{\"gridcolor\":\"white\",\"linecolor\":\"white\",\"ticks\":\"\"}},\"ternary\":{\"bgcolor\":\"#E5ECF6\",\"aaxis\":{\"gridcolor\":\"white\",\"linecolor\":\"white\",\"ticks\":\"\"},\"baxis\":{\"gridcolor\":\"white\",\"linecolor\":\"white\",\"ticks\":\"\"},\"caxis\":{\"gridcolor\":\"white\",\"linecolor\":\"white\",\"ticks\":\"\"}},\"coloraxis\":{\"colorbar\":{\"outlinewidth\":0,\"ticks\":\"\"}},\"colorscale\":{\"sequential\":[[0.0,\"#0d0887\"],[0.1111111111111111,\"#46039f\"],[0.2222222222222222,\"#7201a8\"],[0.3333333333333333,\"#9c179e\"],[0.4444444444444444,\"#bd3786\"],[0.5555555555555556,\"#d8576b\"],[0.6666666666666666,\"#ed7953\"],[0.7777777777777778,\"#fb9f3a\"],[0.8888888888888888,\"#fdca26\"],[1.0,\"#f0f921\"]],\"sequentialminus\":[[0.0,\"#0d0887\"],[0.1111111111111111,\"#46039f\"],[0.2222222222222222,\"#7201a8\"],[0.3333333333333333,\"#9c179e\"],[0.4444444444444444,\"#bd3786\"],[0.5555555555555556,\"#d8576b\"],[0.6666666666666666,\"#ed7953\"],[0.7777777777777778,\"#fb9f3a\"],[0.8888888888888888,\"#fdca26\"],[1.0,\"#f0f921\"]],\"diverging\":[[0,\"#8e0152\"],[0.1,\"#c51b7d\"],[0.2,\"#de77ae\"],[0.3,\"#f1b6da\"],[0.4,\"#fde0ef\"],[0.5,\"#f7f7f7\"],[0.6,\"#e6f5d0\"],[0.7,\"#b8e186\"],[0.8,\"#7fbc41\"],[0.9,\"#4d9221\"],[1,\"#276419\"]]},\"xaxis\":{\"gridcolor\":\"white\",\"linecolor\":\"white\",\"ticks\":\"\",\"title\":{\"standoff\":15},\"zerolinecolor\":\"white\",\"automargin\":true,\"zerolinewidth\":2},\"yaxis\":{\"gridcolor\":\"white\",\"linecolor\":\"white\",\"ticks\":\"\",\"title\":{\"standoff\":15},\"zerolinecolor\":\"white\",\"automargin\":true,\"zerolinewidth\":2},\"scene\":{\"xaxis\":{\"backgroundcolor\":\"#E5ECF6\",\"gridcolor\":\"white\",\"linecolor\":\"white\",\"showbackground\":true,\"ticks\":\"\",\"zerolinecolor\":\"white\",\"gridwidth\":2},\"yaxis\":{\"backgroundcolor\":\"#E5ECF6\",\"gridcolor\":\"white\",\"linecolor\":\"white\",\"showbackground\":true,\"ticks\":\"\",\"zerolinecolor\":\"white\",\"gridwidth\":2},\"zaxis\":{\"backgroundcolor\":\"#E5ECF6\",\"gridcolor\":\"white\",\"linecolor\":\"white\",\"showbackground\":true,\"ticks\":\"\",\"zerolinecolor\":\"white\",\"gridwidth\":2}},\"shapedefaults\":{\"line\":{\"color\":\"#2a3f5f\"}},\"annotationdefaults\":{\"arrowcolor\":\"#2a3f5f\",\"arrowhead\":0,\"arrowwidth\":1},\"geo\":{\"bgcolor\":\"white\",\"landcolor\":\"#E5ECF6\",\"subunitcolor\":\"white\",\"showland\":true,\"showlakes\":true,\"lakecolor\":\"white\"},\"title\":{\"x\":0.05},\"mapbox\":{\"style\":\"light\"}}},\"xaxis\":{\"anchor\":\"y\",\"domain\":[0.0,1.0],\"scaleanchor\":\"y\",\"constrain\":\"domain\",\"showticklabels\":true,\"tickfont\":{\"size\":14,\"color\":\"black\"},\"tickvals\":[0,1,2,3,4,5],\"ticktext\":[\"5 cm\",\"10 cm\",\"15 cm\",\"20 cm\",\"25 cm\"],\"tickangle\":30},\"yaxis\":{\"anchor\":\"x\",\"domain\":[0.0,1.0],\"autorange\":\"reversed\",\"constrain\":\"domain\",\"showticklabels\":false},\"coloraxis\":{\"colorscale\":[[0,\"blue\"],[0.5,\"white\"],[1,\"red\"]],\"cmid\":1},\"margin\":{\"t\":60},\"title\":{\"text\":\"Cumulative Cloud CSI over 100 Days (Normalized)\",\"y\":0.9,\"x\":0.5,\"xanchor\":\"center\",\"yanchor\":\"top\"}},                        {\"responsive\": true}                    ).then(function(){\n",
       "                            \n",
       "var gd = document.getElementById('68ac911f-03e8-49c5-bbab-d8da756e29a5');\n",
       "var x = new MutationObserver(function (mutations, observer) {{\n",
       "        var display = window.getComputedStyle(gd).display;\n",
       "        if (!display || display === 'none') {{\n",
       "            console.log([gd, 'removed!']);\n",
       "            Plotly.purge(gd);\n",
       "            observer.disconnect();\n",
       "        }}\n",
       "}});\n",
       "\n",
       "// Listen for the removal of the full notebook cells\n",
       "var notebookContainer = gd.closest('#notebook-container');\n",
       "if (notebookContainer) {{\n",
       "    x.observe(notebookContainer, {childList: true});\n",
       "}}\n",
       "\n",
       "// Listen for the clearing of the current output cell\n",
       "var outputEl = gd.closest('.output');\n",
       "if (outputEl) {{\n",
       "    x.observe(outputEl, {childList: true});\n",
       "}}\n",
       "\n",
       "                        })                };                });            </script>        </div>"
      ]
     },
     "metadata": {},
     "output_type": "display_data"
    },
    {
     "ename": "ValueError",
     "evalue": "\nImage export using the \"kaleido\" engine requires the kaleido package,\nwhich can be installed using pip:\n    $ pip install -U kaleido\n",
     "output_type": "error",
     "traceback": [
      "\u001b[0;31m---------------------------------------------------------------------------\u001b[0m",
      "\u001b[0;31mValueError\u001b[0m                                Traceback (most recent call last)",
      "Cell \u001b[0;32mIn[44], line 24\u001b[0m\n\u001b[1;32m      7\u001b[0m fig\u001b[38;5;241m.\u001b[39mupdate_layout(\n\u001b[1;32m      8\u001b[0m     title\u001b[38;5;241m=\u001b[39m{\n\u001b[1;32m      9\u001b[0m         \u001b[38;5;124m'\u001b[39m\u001b[38;5;124mtext\u001b[39m\u001b[38;5;124m'\u001b[39m: \u001b[38;5;124m'\u001b[39m\u001b[38;5;124mCumulative Cloud CSI over 100 Days (Normalized)\u001b[39m\u001b[38;5;124m'\u001b[39m,            \u001b[38;5;66;03m# Set your desired title text\u001b[39;00m\n\u001b[0;32m   (...)\u001b[0m\n\u001b[1;32m     20\u001b[0m     )\n\u001b[1;32m     21\u001b[0m )\n\u001b[1;32m     23\u001b[0m fig\u001b[38;5;241m.\u001b[39mshow()\n\u001b[0;32m---> 24\u001b[0m \u001b[43mfig\u001b[49m\u001b[38;5;241;43m.\u001b[39;49m\u001b[43mwrite_image\u001b[49m\u001b[43m(\u001b[49m\u001b[38;5;124;43mf\u001b[39;49m\u001b[38;5;124;43m'\u001b[39;49m\u001b[38;5;124;43m/Users/luigigisolfi/\u001b[39;49m\u001b[38;5;132;43;01m{\u001b[39;49;00m\u001b[38;5;28;43mstr\u001b[39;49m\u001b[43m(\u001b[49m\u001b[43mnube\u001b[49m\u001b[43m)\u001b[49m\u001b[38;5;132;43;01m}\u001b[39;49;00m\u001b[38;5;124;43m/figures/Cumulative_Color_Bar_\u001b[39;49m\u001b[38;5;132;43;01m{\u001b[39;49;00m\u001b[38;5;28;43mstr\u001b[39;49m\u001b[43m(\u001b[49m\u001b[43mnube\u001b[49m\u001b[43m)\u001b[49m\u001b[38;5;132;43;01m}\u001b[39;49;00m\u001b[38;5;124;43m.png\u001b[39;49m\u001b[38;5;124;43m'\u001b[39;49m\u001b[43m)\u001b[49m\n",
      "File \u001b[0;32m/opt/anaconda3/envs/tudat-bundle/lib/python3.11/site-packages/plotly/basedatatypes.py:3835\u001b[0m, in \u001b[0;36mBaseFigure.write_image\u001b[0;34m(self, *args, **kwargs)\u001b[0m\n\u001b[1;32m   3775\u001b[0m \u001b[38;5;250m\u001b[39m\u001b[38;5;124;03m\"\"\"\u001b[39;00m\n\u001b[1;32m   3776\u001b[0m \u001b[38;5;124;03mConvert a figure to a static image and write it to a file or writeable\u001b[39;00m\n\u001b[1;32m   3777\u001b[0m \u001b[38;5;124;03mobject\u001b[39;00m\n\u001b[0;32m   (...)\u001b[0m\n\u001b[1;32m   3831\u001b[0m \u001b[38;5;124;03mNone\u001b[39;00m\n\u001b[1;32m   3832\u001b[0m \u001b[38;5;124;03m\"\"\"\u001b[39;00m\n\u001b[1;32m   3833\u001b[0m \u001b[38;5;28;01mimport\u001b[39;00m \u001b[38;5;21;01mplotly\u001b[39;00m\u001b[38;5;21;01m.\u001b[39;00m\u001b[38;5;21;01mio\u001b[39;00m \u001b[38;5;28;01mas\u001b[39;00m \u001b[38;5;21;01mpio\u001b[39;00m\n\u001b[0;32m-> 3835\u001b[0m \u001b[38;5;28;01mreturn\u001b[39;00m \u001b[43mpio\u001b[49m\u001b[38;5;241;43m.\u001b[39;49m\u001b[43mwrite_image\u001b[49m\u001b[43m(\u001b[49m\u001b[38;5;28;43mself\u001b[39;49m\u001b[43m,\u001b[49m\u001b[43m \u001b[49m\u001b[38;5;241;43m*\u001b[39;49m\u001b[43margs\u001b[49m\u001b[43m,\u001b[49m\u001b[43m \u001b[49m\u001b[38;5;241;43m*\u001b[39;49m\u001b[38;5;241;43m*\u001b[39;49m\u001b[43mkwargs\u001b[49m\u001b[43m)\u001b[49m\n",
      "File \u001b[0;32m/opt/anaconda3/envs/tudat-bundle/lib/python3.11/site-packages/plotly/io/_kaleido.py:266\u001b[0m, in \u001b[0;36mwrite_image\u001b[0;34m(fig, file, format, scale, width, height, validate, engine)\u001b[0m\n\u001b[1;32m    250\u001b[0m             \u001b[38;5;28;01mraise\u001b[39;00m \u001b[38;5;167;01mValueError\u001b[39;00m(\n\u001b[1;32m    251\u001b[0m \u001b[38;5;250m                \u001b[39m\u001b[38;5;124;03m\"\"\"\u001b[39;00m\n\u001b[1;32m    252\u001b[0m \u001b[38;5;124;03mCannot infer image type from output path '{file}'.\u001b[39;00m\n\u001b[0;32m   (...)\u001b[0m\n\u001b[1;32m    260\u001b[0m                 )\n\u001b[1;32m    261\u001b[0m             )\n\u001b[1;32m    263\u001b[0m     \u001b[38;5;66;03m# Request image\u001b[39;00m\n\u001b[1;32m    264\u001b[0m     \u001b[38;5;66;03m# -------------\u001b[39;00m\n\u001b[1;32m    265\u001b[0m     \u001b[38;5;66;03m# Do this first so we don't create a file if image conversion fails\u001b[39;00m\n\u001b[0;32m--> 266\u001b[0m     img_data \u001b[38;5;241m=\u001b[39m \u001b[43mto_image\u001b[49m\u001b[43m(\u001b[49m\n\u001b[1;32m    267\u001b[0m \u001b[43m        \u001b[49m\u001b[43mfig\u001b[49m\u001b[43m,\u001b[49m\n\u001b[1;32m    268\u001b[0m \u001b[43m        \u001b[49m\u001b[38;5;28;43mformat\u001b[39;49m\u001b[38;5;241;43m=\u001b[39;49m\u001b[38;5;28;43mformat\u001b[39;49m\u001b[43m,\u001b[49m\n\u001b[1;32m    269\u001b[0m \u001b[43m        \u001b[49m\u001b[43mscale\u001b[49m\u001b[38;5;241;43m=\u001b[39;49m\u001b[43mscale\u001b[49m\u001b[43m,\u001b[49m\n\u001b[1;32m    270\u001b[0m \u001b[43m        \u001b[49m\u001b[43mwidth\u001b[49m\u001b[38;5;241;43m=\u001b[39;49m\u001b[43mwidth\u001b[49m\u001b[43m,\u001b[49m\n\u001b[1;32m    271\u001b[0m \u001b[43m        \u001b[49m\u001b[43mheight\u001b[49m\u001b[38;5;241;43m=\u001b[39;49m\u001b[43mheight\u001b[49m\u001b[43m,\u001b[49m\n\u001b[1;32m    272\u001b[0m \u001b[43m        \u001b[49m\u001b[43mvalidate\u001b[49m\u001b[38;5;241;43m=\u001b[39;49m\u001b[43mvalidate\u001b[49m\u001b[43m,\u001b[49m\n\u001b[1;32m    273\u001b[0m \u001b[43m        \u001b[49m\u001b[43mengine\u001b[49m\u001b[38;5;241;43m=\u001b[39;49m\u001b[43mengine\u001b[49m\u001b[43m,\u001b[49m\n\u001b[1;32m    274\u001b[0m \u001b[43m    \u001b[49m\u001b[43m)\u001b[49m\n\u001b[1;32m    276\u001b[0m     \u001b[38;5;66;03m# Open file\u001b[39;00m\n\u001b[1;32m    277\u001b[0m     \u001b[38;5;66;03m# ---------\u001b[39;00m\n\u001b[1;32m    278\u001b[0m     \u001b[38;5;28;01mif\u001b[39;00m path \u001b[38;5;129;01mis\u001b[39;00m \u001b[38;5;28;01mNone\u001b[39;00m:\n\u001b[1;32m    279\u001b[0m         \u001b[38;5;66;03m# We previously failed to make sense of `file` as a pathlib object.\u001b[39;00m\n\u001b[1;32m    280\u001b[0m         \u001b[38;5;66;03m# Attempt to write to `file` as an open file descriptor.\u001b[39;00m\n",
      "File \u001b[0;32m/opt/anaconda3/envs/tudat-bundle/lib/python3.11/site-packages/plotly/io/_kaleido.py:132\u001b[0m, in \u001b[0;36mto_image\u001b[0;34m(fig, format, width, height, scale, validate, engine)\u001b[0m\n\u001b[1;32m    130\u001b[0m     \u001b[38;5;66;03m# Raise informative error message if Kaleido is not installed\u001b[39;00m\n\u001b[1;32m    131\u001b[0m     \u001b[38;5;28;01mif\u001b[39;00m scope \u001b[38;5;129;01mis\u001b[39;00m \u001b[38;5;28;01mNone\u001b[39;00m:\n\u001b[0;32m--> 132\u001b[0m         \u001b[38;5;28;01mraise\u001b[39;00m \u001b[38;5;167;01mValueError\u001b[39;00m(\n\u001b[1;32m    133\u001b[0m \u001b[38;5;250m            \u001b[39m\u001b[38;5;124;03m\"\"\"\u001b[39;00m\n\u001b[1;32m    134\u001b[0m \u001b[38;5;124;03mImage export using the \"kaleido\" engine requires the kaleido package,\u001b[39;00m\n\u001b[1;32m    135\u001b[0m \u001b[38;5;124;03mwhich can be installed using pip:\u001b[39;00m\n\u001b[1;32m    136\u001b[0m \u001b[38;5;124;03m    $ pip install -U kaleido\u001b[39;00m\n\u001b[1;32m    137\u001b[0m \u001b[38;5;124;03m\"\"\"\u001b[39;00m\n\u001b[1;32m    138\u001b[0m         )\n\u001b[1;32m    140\u001b[0m     \u001b[38;5;66;03m# Validate figure\u001b[39;00m\n\u001b[1;32m    141\u001b[0m     \u001b[38;5;66;03m# ---------------\u001b[39;00m\n\u001b[1;32m    142\u001b[0m     fig_dict \u001b[38;5;241m=\u001b[39m validate_coerce_fig_to_dict(fig, validate)\n",
      "\u001b[0;31mValueError\u001b[0m: \nImage export using the \"kaleido\" engine requires the kaleido package,\nwhich can be installed using pip:\n    $ pip install -U kaleido\n"
     ]
    }
   ],
   "source": [
    "import plotly.express as px\n",
    "\n",
    "print(csi_cumulative_list/csi_cumulative_list[2])\n",
    "str_xlabel = [str(round(n)) + ' cm' for n in np.sort(capability_list)]\n",
    "fig = px.imshow([np.sort(csi_cumulative_list)/np.sort(csi_cumulative_list)[2]], color_continuous_scale=[(0, \"blue\"), (0.5, \"white\"), (1, \"red\")], color_continuous_midpoint=1)\n",
    "fig.update_xaxes(showticklabels=True).update_yaxes(showticklabels=False)\n",
    "fig.update_layout(\n",
    "    title={\n",
    "        'text': 'Cumulative Cloud CSI over 100 Days (Normalized)',            # Set your desired title text\n",
    "        'y': 0.9,                           # Vertical position (y-axis) of title (between 0 and 1)\n",
    "        'x': 0.5,                           # Horizontal position of the title\n",
    "        'xanchor': 'center',                # Anchor the title text horizontally\n",
    "        'yanchor': 'top'                    # Anchor the title text vertically\n",
    "    },\n",
    "    xaxis=dict(\n",
    "        tickvals=[0,1, 2, 3, 4,5],              # Positions of the ticks\n",
    "        ticktext=str_xlabel,  # Custom labels\n",
    "        tickangle=30,                          # Rotate labels by 45 degrees\n",
    "        tickfont=dict(size=14, color='black')   # Custom font size and color\n",
    "    )\n",
    ")\n",
    "\n",
    "fig.show()\n",
    "fig.write_image(f'/Users/luigigisolfi/{str(nube)}/figures/Cumulative_Color_Bar_{str(nube)}.png')"
   ]
  },
  {
   "cell_type": "code",
   "execution_count": 100,
   "id": "89bd0d13-0e84-4aba-956c-c73d6ea60d01",
   "metadata": {},
   "outputs": [
    {
     "data": {
      "image/png": "[encoded data removed]",
      "text/plain": [
       "<Figure size 1000x700 with 3 Axes>"
      ]
     },
     "metadata": {},
     "output_type": "display_data"
    }
   ],
   "source": [
    "import matplotlib.pyplot as plt\n",
    "import numpy as np; np.random.seed(1)\n",
    "from scipy.interpolate import CubicSpline\n",
    "plt.rcParams[\"figure.figsize\"] = 10,7\n",
    "\n",
    "\n",
    "# Example data (replace these with your actual data)\n",
    "\n",
    "# Sort and normalize\n",
    "y = np.sort(csi_cumulative_list) / np.sort(csi_cumulative_list)[2]\n",
    "x = np.sort(capability_list)\n",
    "\n",
    "degree = 2  # Degree of the polynomial\n",
    "coeffs = np.polyfit(x, y, degree)\n",
    "poly = np.poly1d(coeffs)\n",
    "\n",
    "# Interpolation\n",
    "x_new = np.linspace(x.min(), x.max(), 1000)  # New x-values for interpolation\n",
    "spline = CubicSpline(x, y)\n",
    "y_interpolated = spline(x_new)\n",
    "\n",
    "fig, (ax, ax2) = plt.subplots(nrows=2, sharex=True)\n",
    "\n",
    "extent = [x_new[0] - (x_new[1] - x_new[0]) / 2., x_new[-1] + (x_new[1] - x_new[0]) / 2., 0, 1]\n",
    "im = ax2.imshow(y_interpolated[np.newaxis, :], cmap=\"plasma\", aspect=\"auto\", extent=extent)\n",
    "ax2.set_yticks([])\n",
    "ax2.set_xlim(extent[0], extent[1])\n",
    "\n",
    "# Add colorbar\n",
    "cbar = plt.colorbar(im, ax=ax2, orientation='horizontal', pad=0.2)\n",
    "cbar.set_label('Cumulative Cloud CSI Value (Normalized)')\n",
    "\n",
    "ax.scatter(x, y, label='Original Data')\n",
    "ax.plot(x_new, y_interpolated, label='Interpolated Data', color='orange')\n",
    "ax.axhline(1, linestyle='--', color='red', alpha=0.5)\n",
    "ax.axvline(15, linestyle='--', color='red', alpha=0.5)\n",
    "ax2.set_xlabel('Minimum Detectable Size at 1200 km (cm)')\n",
    "ax.legend()\n",
    "\n",
    "plt.tight_layout()\n",
    "plt.show()"
   ]
  },
  {
   "cell_type": "code",
   "execution_count": 15,
   "id": "21c5df75-e93c-45d0-a21e-ab5b2af132b8",
   "metadata": {},
   "outputs": [],
   "source": []
  },
  {
   "cell_type": "code",
   "execution_count": null,
   "id": "56340b21-7b17-40f1-97d4-f9eb17c74a9e",
   "metadata": {},
   "outputs": [],
   "source": []
  }
 ],
 "metadata": {
  "jupytext": {
   "cell_metadata_filter": "-all",
   "main_language": "python",
   "notebook_metadata_filter": "-all"
  },
  "kernelspec": {
   "display_name": "Python 3 (ipykernel)",
   "language": "python",
   "name": "python3"
  },
  "language_info": {
   "codemirror_mode": {
    "name": "ipython",
    "version": 3
   },
   "file_extension": ".py",
   "mimetype": "text/x-python",
   "name": "python",
   "nbconvert_exporter": "python",
   "pygments_lexer": "ipython3",
   "version": "3.11.9"
  }
 },
 "nbformat": 4,
 "nbformat_minor": 5
}
